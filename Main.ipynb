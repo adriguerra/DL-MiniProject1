{
 "cells": [
  {
   "cell_type": "markdown",
   "metadata": {},
   "source": [
    "# Mini-Project 1"
   ]
  },
  {
   "cell_type": "markdown",
   "metadata": {},
   "source": [
    "Recap. session 03.04.2019: Discussion with teaching assistant. \n",
    "\n",
    "Do 3 different architectures:\n",
    "1. Fully-Connected Networks (Deep & Shallow)\n",
    "2. Convolution Neural Network \n",
    "3. Residual Neural Network\n",
    "\n",
    "For each architecture: \n",
    "- output 0 or 1 (directly predict if number is smaller or not)\n",
    "- output class (give digit of each image and do comparison)\n",
    "- output 0 or 1 + class of digit (enables 3 different loss functions)\n",
    "\n",
    "Note:\n",
    "<br> - Do weight sharing: each image enters a different building block "
   ]
  },
  {
   "cell_type": "code",
   "execution_count": 1,
   "metadata": {},
   "outputs": [],
   "source": [
    "from helper_functions import *\n",
    "from torch import nn\n",
    "from torch.autograd import Variable"
   ]
  },
  {
   "cell_type": "markdown",
   "metadata": {},
   "source": [
    "## Load datasets"
   ]
  },
  {
   "cell_type": "code",
   "execution_count": 2,
   "metadata": {},
   "outputs": [],
   "source": [
    "N = 1000\n",
    "train_input, train_target, train_classes, test_input, test_target, test_classes = generate_pair_sets(N)"
   ]
  },
  {
   "cell_type": "markdown",
   "metadata": {},
   "source": [
    "Name | Tensor dimension | Type | Content\n",
    "-----|-----|-----|-----\n",
    "`train_input` | N × 2 × 14 × 14 | float32 | Images\n",
    "`train_target` | N | int64 | Class to predict ∈ {0, 1}\n",
    "`train_classes` | N × 2 | int64 | Classes of the two digits ∈ {0, . . . , 9}\n",
    "`test_input` | N × 2 × 14 × 14 | float32 | Images\n",
    "`test_target` | N | int64 | Class | to predict ∈ {0, 1}\n",
    "`test_classes` | N × 2 | int64 | Classes of the two digits ∈ {0, . . . , 9}"
   ]
  },
  {
   "cell_type": "markdown",
   "metadata": {},
   "source": [
    "# Fully-Connected Networks"
   ]
  },
  {
   "cell_type": "markdown",
   "metadata": {},
   "source": [
    "## 1. Output 0 or 1"
   ]
  },
  {
   "cell_type": "markdown",
   "metadata": {},
   "source": [
    "Name | Tensor dimension | Type | Content\n",
    "-----|-----|-----|-----\n",
    "`x_train` | N × 392 | float32 | Images\n",
    "`y_train` | N | int64 | Class to predict ∈ {0, 1}\n",
    "`x_test` | N × 392| float32 | Images\n",
    "`y_test` | N | int64 | Class | to predict ∈ {0, 1}"
   ]
  },
  {
   "cell_type": "markdown",
   "metadata": {},
   "source": [
    "### Preprocess Data"
   ]
  },
  {
   "cell_type": "code",
   "execution_count": 3,
   "metadata": {},
   "outputs": [],
   "source": [
    "reshape = True\n",
    "one_hot_encoded = False\n",
    "split = False\n",
    "normalized = True"
   ]
  },
  {
   "cell_type": "code",
   "execution_count": 4,
   "metadata": {},
   "outputs": [],
   "source": [
    "x_train = train_input\n",
    "y_train = train_target\n",
    "x_test = test_input\n",
    "y_test = test_target"
   ]
  },
  {
   "cell_type": "code",
   "execution_count": 5,
   "metadata": {},
   "outputs": [],
   "source": [
    "x_train, y_train, x_test, y_test = preprocess_data(x_train, \n",
    "                                                   y_train, \n",
    "                                                   x_test, \n",
    "                                                   y_test, \n",
    "                                                   reshape, \n",
    "                                                   one_hot_encoded, \n",
    "                                                   split, \n",
    "                                                   normalized)"
   ]
  },
  {
   "cell_type": "code",
   "execution_count": 6,
   "metadata": {},
   "outputs": [],
   "source": [
    "x_train, y_train = Variable(x_train), Variable(y_train)\n",
    "x_test, y_test = Variable(x_test), Variable(y_test)"
   ]
  },
  {
   "cell_type": "code",
   "execution_count": 7,
   "metadata": {},
   "outputs": [
    {
     "name": "stdout",
     "output_type": "stream",
     "text": [
      "torch.Size([1000, 392])\n",
      "torch.Size([1000, 1])\n",
      "torch.Size([1000, 392])\n",
      "torch.Size([1000, 1])\n"
     ]
    }
   ],
   "source": [
    "print(x_train.shape)\n",
    "print(y_train.shape)\n",
    "print(x_test.shape)\n",
    "print(y_test.shape)"
   ]
  },
  {
   "cell_type": "markdown",
   "metadata": {},
   "source": [
    "### Define Models"
   ]
  },
  {
   "cell_type": "code",
   "execution_count": 8,
   "metadata": {},
   "outputs": [],
   "source": [
    "def create_shallow_model():\n",
    "    return nn.Sequential(\n",
    "        nn.Linear(392, 50),\n",
    "        nn.BatchNorm1d(50),\n",
    "        nn.ReLU(),\n",
    "        nn.Linear(50, 2))\n",
    "# TODO ask why output must be 2"
   ]
  },
  {
   "cell_type": "code",
   "execution_count": 9,
   "metadata": {},
   "outputs": [],
   "source": [
    "def create_deep_model():\n",
    "    return nn.Sequential(\n",
    "        nn.Linear(392, 4),\n",
    "        nn.BatchNorm1d(4),\n",
    "        nn.ReLU(),\n",
    "        nn.Linear(4, 8),\n",
    "        nn.BatchNorm1d(8),\n",
    "        nn.ReLU(),\n",
    "        nn.Linear(8, 16),\n",
    "        nn.BatchNorm1d(16),\n",
    "        nn.ReLU(),\n",
    "        nn.Linear(16, 32),\n",
    "        nn.BatchNorm1d(32),\n",
    "        nn.ReLU(),\n",
    "        nn.Linear(32, 64),\n",
    "        nn.BatchNorm1d(64),\n",
    "        nn.ReLU(),\n",
    "        nn.Linear(64, 128),\n",
    "        nn.BatchNorm1d(128),\n",
    "        nn.ReLU(),\n",
    "        nn.Linear(128, 2))"
   ]
  },
  {
   "cell_type": "code",
   "execution_count": 10,
   "metadata": {},
   "outputs": [],
   "source": [
    "models = [create_shallow_model, create_deep_model]"
   ]
  },
  {
   "cell_type": "markdown",
   "metadata": {},
   "source": [
    "### Test Models"
   ]
  },
  {
   "cell_type": "code",
   "execution_count": 11,
   "metadata": {
    "scrolled": false
   },
   "outputs": [
    {
     "name": "stdout",
     "output_type": "stream",
     "text": [
      "std -1.000000 create_shallow_model train_error 0.00% test_error 24.60%\n",
      "std 0.001000 create_shallow_model train_error 0.00% test_error 26.40%\n",
      "std 0.010000 create_shallow_model train_error 0.00% test_error 25.80%\n",
      "std 0.100000 create_shallow_model train_error 0.00% test_error 25.90%\n",
      "std 1.000000 create_shallow_model train_error 14.10% test_error 26.00%\n",
      "std 10.000000 create_shallow_model train_error 36.90% test_error 39.30%\n",
      "std -1.000000 create_deep_model train_error 0.10% test_error 29.10%\n",
      "std 0.001000 create_deep_model train_error 44.90% test_error 47.40%\n",
      "std 0.010000 create_deep_model train_error 44.90% test_error 47.40%\n",
      "std 0.100000 create_deep_model train_error 2.90% test_error 29.60%\n",
      "std 1.000000 create_deep_model train_error 24.50% test_error 51.40%\n",
      "std 10.000000 create_deep_model train_error 16.30% test_error 45.90%\n"
     ]
    }
   ],
   "source": [
    "stds = [-1, 1e-3, 1e-2, 1e-1, 1e-0, 1e1]\n",
    "for model in models:\n",
    "    compute_errors(model, \n",
    "                   x_train, \n",
    "                   y_train, \n",
    "                   x_test,\n",
    "                   y_test,\n",
    "                   stds,\n",
    "                   one_hot_encoded)"
   ]
  },
  {
   "cell_type": "markdown",
   "metadata": {},
   "source": [
    "## 2. Output Classes"
   ]
  },
  {
   "cell_type": "markdown",
   "metadata": {},
   "source": [
    "Name | Tensor dimension | Type | Content\n",
    "-----|-----|-----|-----\n",
    "`x_train` | N × 2 × 14 × 14 | float32 | Images\n",
    "`y_train` | N × 2 | int64 | Classes of the two digits ∈ {0, . . . , 9}\n",
    "`x_test` | N × 2 × 14 × 14 | float32 | Images\n",
    "`y_test` | N × 2 | int64 | Classes of the two digits ∈ {0, . . . , 9}\n",
    "`x_train1` | N × 196 | float32 | Images\n",
    "`x_train2` | N × 196 | float32 | Images\n",
    "`y_train1` | N | int64 | Classes of the two digits ∈ {0, . . . , 9}\n",
    "`y_train2` | N | int64 | Classes of the two digits ∈ {0, . . . , 9}"
   ]
  },
  {
   "cell_type": "markdown",
   "metadata": {},
   "source": [
    "### Preprocess Data"
   ]
  },
  {
   "cell_type": "code",
   "execution_count": 12,
   "metadata": {},
   "outputs": [],
   "source": [
    "reshape = True\n",
    "one_hot_encoded = True\n",
    "split = True\n",
    "normalized = True"
   ]
  },
  {
   "cell_type": "code",
   "execution_count": 13,
   "metadata": {},
   "outputs": [],
   "source": [
    "x_train = train_input\n",
    "y_train = train_classes\n",
    "x_test = test_input\n",
    "y_test = test_classes"
   ]
  },
  {
   "cell_type": "code",
   "execution_count": 14,
   "metadata": {},
   "outputs": [],
   "source": [
    "x_train, y_train, x_test, y_test = preprocess_data(x_train, \n",
    "                                                   y_train, \n",
    "                                                   x_test, \n",
    "                                                   y_test, \n",
    "                                                   reshape, \n",
    "                                                   one_hot_encoded, \n",
    "                                                   split, \n",
    "                                                   normalized)"
   ]
  },
  {
   "cell_type": "code",
   "execution_count": 15,
   "metadata": {},
   "outputs": [],
   "source": [
    "x_train1, y_train1 = Variable(x_train[0]), Variable(y_train[0])\n",
    "x_test1, y_test1 = Variable(x_test[0]), Variable(y_test[0])"
   ]
  },
  {
   "cell_type": "code",
   "execution_count": 16,
   "metadata": {},
   "outputs": [
    {
     "name": "stdout",
     "output_type": "stream",
     "text": [
      "torch.Size([1000, 196])\n"
     ]
    }
   ],
   "source": [
    "print(x_train1.shape)"
   ]
  },
  {
   "cell_type": "markdown",
   "metadata": {},
   "source": [
    "### Define Models"
   ]
  },
  {
   "cell_type": "code",
   "execution_count": 17,
   "metadata": {},
   "outputs": [],
   "source": [
    "def create_shallow_model():\n",
    "    return nn.Sequential(\n",
    "        nn.Linear(196, 50),\n",
    "        nn.BatchNorm1d(50),\n",
    "        nn.ReLU(),\n",
    "        nn.Linear(50, 10))"
   ]
  },
  {
   "cell_type": "code",
   "execution_count": 18,
   "metadata": {},
   "outputs": [],
   "source": [
    "def create_deep_model():\n",
    "    return nn.Sequential(\n",
    "        nn.Linear(196, 4),\n",
    "        nn.BatchNorm1d(4),\n",
    "        nn.ReLU(),\n",
    "        nn.Linear(4, 8),\n",
    "        nn.BatchNorm1d(8),\n",
    "        nn.ReLU(),\n",
    "        nn.Linear(8, 16),\n",
    "        nn.BatchNorm1d(16),\n",
    "        nn.ReLU(),\n",
    "        nn.Linear(16, 32),\n",
    "        nn.BatchNorm1d(32),\n",
    "        nn.ReLU(),\n",
    "        nn.Linear(32, 64),\n",
    "        nn.BatchNorm1d(64),\n",
    "        nn.ReLU(),\n",
    "        nn.Linear(64, 128),\n",
    "        nn.BatchNorm1d(128),\n",
    "        nn.ReLU(),\n",
    "        nn.Linear(128, 10))"
   ]
  },
  {
   "cell_type": "code",
   "execution_count": 19,
   "metadata": {},
   "outputs": [],
   "source": [
    "models = [create_shallow_model, create_deep_model]"
   ]
  },
  {
   "cell_type": "markdown",
   "metadata": {},
   "source": [
    "### Test Models"
   ]
  },
  {
   "cell_type": "code",
   "execution_count": 20,
   "metadata": {
    "scrolled": true
   },
   "outputs": [
    {
     "name": "stdout",
     "output_type": "stream",
     "text": [
      "std -1.000000 create_shallow_model train_error 0.00% test_error 14.10%\n",
      "std 0.001000 create_shallow_model train_error 0.00% test_error 16.00%\n",
      "std 0.010000 create_shallow_model train_error 0.00% test_error 15.90%\n",
      "std 0.100000 create_shallow_model train_error 0.00% test_error 14.70%\n",
      "std 1.000000 create_shallow_model train_error 6.10% test_error 18.60%\n",
      "std 10.000000 create_shallow_model train_error 48.00% test_error 50.30%\n",
      "std -1.000000 create_deep_model train_error 0.00% test_error 26.30%\n",
      "std 0.001000 create_deep_model train_error 87.00% test_error 88.60%\n",
      "std 0.010000 create_deep_model train_error 87.00% test_error 88.60%\n",
      "std 0.100000 create_deep_model train_error 6.30% test_error 34.70%\n",
      "std 1.000000 create_deep_model train_error 34.80% test_error 69.80%\n",
      "std 10.000000 create_deep_model train_error 65.30% test_error 78.70%\n"
     ]
    }
   ],
   "source": [
    "stds = [-1, 1e-3, 1e-2, 1e-1, 1e-0, 1e1]\n",
    "for model in models:\n",
    "    compute_errors(model, \n",
    "                   x_train1, \n",
    "                   y_train1, \n",
    "                   x_test1,\n",
    "                   y_test1,\n",
    "                   stds,\n",
    "                   one_hot_encoded)"
   ]
  },
  {
   "cell_type": "code",
   "execution_count": 21,
   "metadata": {},
   "outputs": [
    {
     "name": "stdout",
     "output_type": "stream",
     "text": [
      "Computed standard deviation according to 'Xavier initialization': 0.183\n",
      "std 0.182574 create_shallow_model train_error 0.00% test_error 14.90%\n",
      "Computed standard deviation according to 'Xavier initialization': 0.120\n",
      "std 0.120386 create_deep_model train_error 9.50% test_error 36.80%\n"
     ]
    }
   ],
   "source": [
    "# Xavier initialization\n",
    "for model in models:\n",
    "    compute_errors(model, \n",
    "                   x_train1, \n",
    "                   y_train1, \n",
    "                   x_test1,\n",
    "                   y_test1,\n",
    "                   None,\n",
    "                   one_hot_encoded)"
   ]
  }
 ],
 "metadata": {
  "kernelspec": {
   "display_name": "Python 3",
   "language": "python",
   "name": "python3"
  },
  "language_info": {
   "codemirror_mode": {
    "name": "ipython",
    "version": 3
   },
   "file_extension": ".py",
   "mimetype": "text/x-python",
   "name": "python",
   "nbconvert_exporter": "python",
   "pygments_lexer": "ipython3",
   "version": "3.6.5"
  },
  "toc": {
   "base_numbering": 1,
   "nav_menu": {},
   "number_sections": false,
   "sideBar": true,
   "skip_h1_title": false,
   "title_cell": "Table of Contents",
   "title_sidebar": "Contents",
   "toc_cell": false,
   "toc_position": {},
   "toc_section_display": true,
   "toc_window_display": false
  },
  "varInspector": {
   "cols": {
    "lenName": 16,
    "lenType": 16,
    "lenVar": 40
   },
   "kernels_config": {
    "python": {
     "delete_cmd_postfix": "",
     "delete_cmd_prefix": "del ",
     "library": "var_list.py",
     "varRefreshCmd": "print(var_dic_list())"
    },
    "r": {
     "delete_cmd_postfix": ") ",
     "delete_cmd_prefix": "rm(",
     "library": "var_list.r",
     "varRefreshCmd": "cat(var_dic_list()) "
    }
   },
   "position": {
    "height": "268px",
    "left": "944px",
    "right": "20px",
    "top": "120px",
    "width": "316px"
   },
   "types_to_exclude": [
    "module",
    "function",
    "builtin_function_or_method",
    "instance",
    "_Feature"
   ],
   "window_display": false
  }
 },
 "nbformat": 4,
 "nbformat_minor": 2
}
