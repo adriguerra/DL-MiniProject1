{
 "cells": [
  {
   "cell_type": "markdown",
   "metadata": {},
   "source": [
    "# Mini-Project 1"
   ]
  },
  {
   "cell_type": "markdown",
   "metadata": {},
   "source": [
    "Recap. session 03.04.2019: Discussion with teaching assistant. \n",
    "\n",
    "Do 3 different architectures:\n",
    "1. Fully-Connected Networks (Deep & Shallow)\n",
    "2. Convolution Neural Network \n",
    "3. Residual Neural Network\n",
    "\n",
    "For each architecture: \n",
    "- output 0 or 1 (directly predict if number is smaller or not)\n",
    "- output class (give digit of each image and do comparison)\n",
    "- output 0 or 1 + class of digit (enables 3 different loss functions)\n",
    "\n",
    "Note:\n",
    "<br> - Do weight sharing: each image enters a different building block "
   ]
  },
  {
   "cell_type": "code",
   "execution_count": 3,
   "metadata": {},
   "outputs": [],
   "source": [
    "from helper_functions import *\n",
    "from torch import nn\n",
    "from torch.autograd import Variable\n",
    "import torch.nn.functional as F"
   ]
  },
  {
   "cell_type": "markdown",
   "metadata": {},
   "source": [
    "## Load datasets"
   ]
  },
  {
   "cell_type": "code",
   "execution_count": 4,
   "metadata": {},
   "outputs": [],
   "source": [
    "N = 1000\n",
    "train_input, train_target, train_classes, test_input, test_target, test_classes = generate_pair_sets(N)"
   ]
  },
  {
   "cell_type": "markdown",
   "metadata": {},
   "source": [
    "Name | Tensor dimension | Type | Content\n",
    "-----|-----|-----|-----\n",
    "`train_input` | N × 2 × 14 × 14 | float32 | Images\n",
    "`train_target` | N | int64 | Class to predict ∈ {0, 1}\n",
    "`train_classes` | N × 2 | int64 | Classes of the two digits ∈ {0, . . . , 9}\n",
    "`test_input` | N × 2 × 14 × 14 | float32 | Images\n",
    "`test_target` | N | int64 | Class | to predict ∈ {0, 1}\n",
    "`test_classes` | N × 2 | int64 | Classes of the two digits ∈ {0, . . . , 9}"
   ]
  },
  {
   "cell_type": "markdown",
   "metadata": {},
   "source": [
    "# Fully-Connected Networks"
   ]
  },
  {
   "cell_type": "markdown",
   "metadata": {},
   "source": [
    "## 1. Output 0 or 1"
   ]
  },
  {
   "cell_type": "markdown",
   "metadata": {},
   "source": [
    "### Preprocess Data"
   ]
  },
  {
   "cell_type": "code",
   "execution_count": 5,
   "metadata": {},
   "outputs": [],
   "source": [
    "train_input, test_input = reshape_data(train_input, test_input)"
   ]
  },
  {
   "cell_type": "markdown",
   "metadata": {},
   "source": [
    "### Define Models"
   ]
  },
  {
   "cell_type": "code",
   "execution_count": null,
   "metadata": {},
   "outputs": [],
   "source": [
    "def create_shallow_model():\n",
    "    return nn.Sequential(\n",
    "        nn.Linear(196, 50),\n",
    "        nn.BatchNorm1d(50),\n",
    "        nn.ReLU(),\n",
    "        nn.Linear(50, 1))"
   ]
  },
  {
   "cell_type": "code",
   "execution_count": null,
   "metadata": {},
   "outputs": [],
   "source": [
    "def create_deep_model():\n",
    "    return nn.Sequential(\n",
    "        nn.Linear(196, 4),\n",
    "        nn.BatchNorm1d(4),\n",
    "        nn.ReLU(),\n",
    "        nn.Linear(4, 8),\n",
    "        nn.BatchNorm1d(8),\n",
    "        nn.ReLU(),\n",
    "        nn.Linear(8, 16),\n",
    "        nn.BatchNorm1d(16),\n",
    "        nn.ReLU(),\n",
    "        nn.Linear(16, 32),\n",
    "        nn.BatchNorm1d(32),\n",
    "        nn.ReLU(),\n",
    "        nn.Linear(32, 64),\n",
    "        nn.BatchNorm1d(64),\n",
    "        nn.ReLU(),\n",
    "        nn.Linear(64, 128),\n",
    "        nn.BatchNorm1d(128),\n",
    "        nn.ReLU(),\n",
    "        nn.Linear(128, 1))"
   ]
  },
  {
   "cell_type": "code",
   "execution_count": null,
   "metadata": {},
   "outputs": [],
   "source": [
    "models = [create_shallow_model, create_deep_model]"
   ]
  },
  {
   "cell_type": "markdown",
   "metadata": {},
   "source": [
    "### Test Models"
   ]
  },
  {
   "cell_type": "code",
   "execution_count": null,
   "metadata": {
    "scrolled": true
   },
   "outputs": [],
   "source": [
    "# stds = [-1, 1e-3, 1e-2, 1e-1, 1e-0, 1e1]\n",
    "# for model in models:\n",
    "#     compute_errors(m=model, \n",
    "#                    train_input=train_input, \n",
    "#                    train_classes=, \n",
    "#                    test_input=test_input,\n",
    "#                    test_classes=,\n",
    "#                    stds=stds)"
   ]
  },
  {
   "cell_type": "markdown",
   "metadata": {},
   "source": [
    "## 2. Output Classes"
   ]
  },
  {
   "cell_type": "markdown",
   "metadata": {},
   "source": [
    "### Preprocess Data"
   ]
  },
  {
   "cell_type": "code",
   "execution_count": 9,
   "metadata": {},
   "outputs": [],
   "source": [
    "train_input, test_input = reshape_data(train_input, test_input)\n",
    "train_input1, train_input2, test_input1, test_input2, train_classes1, train_classes2, test_classes1, test_classes2 = split_img_data(train_input, test_input, train_classes, test_classes)\n",
    "\n",
    "train_input1 = 0.9*train_input1\n",
    "train_input2 = 0.9*train_input2\n",
    "\n",
    "test_input1 = 0.9*test_input1\n",
    "test_input2 = 0.9*test_input2\n",
    "\n",
    "train_classes1 = convert_to_one_hot_labels(train_input1, train_classes1)\n",
    "train_classes2 = convert_to_one_hot_labels(train_input2, train_classes2)\n",
    "\n",
    "test_classes1 = convert_to_one_hot_labels(test_input1, test_classes1)\n",
    "test_classes2 = convert_to_one_hot_labels(test_input2, test_classes2)\n",
    "\n",
    "train_input1, test_classes1 = normalize(train_input1, test_classes1)\n",
    "train_input2, test_classes2 = normalize(train_input2, test_classes2)"
   ]
  },
  {
   "cell_type": "code",
   "execution_count": 10,
   "metadata": {},
   "outputs": [],
   "source": [
    "train_input1, train_classes1 = Variable(train_input1), Variable(train_classes1)\n",
    "test_input1, test_classes1 = Variable(test_input1), Variable(test_classes1)"
   ]
  },
  {
   "cell_type": "markdown",
   "metadata": {},
   "source": [
    "### Define Models"
   ]
  },
  {
   "cell_type": "code",
   "execution_count": null,
   "metadata": {},
   "outputs": [],
   "source": [
    "def create_shallow_model():\n",
    "    return nn.Sequential(\n",
    "        nn.Linear(196, 50),\n",
    "        nn.BatchNorm1d(50),\n",
    "        nn.ReLU(),\n",
    "        nn.Linear(50, 10))"
   ]
  },
  {
   "cell_type": "code",
   "execution_count": null,
   "metadata": {},
   "outputs": [],
   "source": [
    "def create_deep_model():\n",
    "    return nn.Sequential(\n",
    "        nn.Linear(196, 4),\n",
    "        nn.BatchNorm1d(4),\n",
    "        nn.ReLU(),\n",
    "        nn.Linear(4, 8),\n",
    "        nn.BatchNorm1d(8),\n",
    "        nn.ReLU(),\n",
    "        nn.Linear(8, 16),\n",
    "        nn.BatchNorm1d(16),\n",
    "        nn.ReLU(),\n",
    "        nn.Linear(16, 32),\n",
    "        nn.BatchNorm1d(32),\n",
    "        nn.ReLU(),\n",
    "        nn.Linear(32, 64),\n",
    "        nn.BatchNorm1d(64),\n",
    "        nn.ReLU(),\n",
    "        nn.Linear(64, 128),\n",
    "        nn.BatchNorm1d(128),\n",
    "        nn.ReLU(),\n",
    "        nn.Linear(128, 10))"
   ]
  },
  {
   "cell_type": "code",
   "execution_count": null,
   "metadata": {},
   "outputs": [],
   "source": [
    "models = [create_shallow_model, create_deep_model]"
   ]
  },
  {
   "cell_type": "markdown",
   "metadata": {},
   "source": [
    "### Test Models"
   ]
  },
  {
   "cell_type": "code",
   "execution_count": null,
   "metadata": {
    "scrolled": true
   },
   "outputs": [],
   "source": [
    "stds = [-1, 1e-3, 1e-2, 1e-1, 1e-0, 1e1]\n",
    "for model in models:\n",
    "    compute_errors(m=model, \n",
    "                   train_input=train_input1, \n",
    "                   train_classes=train_classes1, \n",
    "                   test_input=test_input1,\n",
    "                   test_classes=test_classes1,\n",
    "                   stds=stds,\n",
    "                   one_hot_encoded=True)"
   ]
  },
  {
   "cell_type": "code",
   "execution_count": null,
   "metadata": {},
   "outputs": [],
   "source": [
    "# Xavier initialization\n",
    "for model in models:\n",
    "    compute_errors(m=model, \n",
    "                   train_input=train_input1, \n",
    "                   train_classes=train_classes1, \n",
    "                   test_input=test_input1,\n",
    "                   test_classes=test_classes1,\n",
    "                   stds=None,\n",
    "                   one_hot_encoded=True)"
   ]
  },
  {
   "cell_type": "markdown",
   "metadata": {},
   "source": [
    "# Architecture: CNN "
   ]
  },
  {
   "cell_type": "code",
   "execution_count": 11,
   "metadata": {},
   "outputs": [],
   "source": [
    "class Net(nn.Module):\n",
    "    def __init__(self, nb_hidden):\n",
    "        super(Net, self).__init__()\n",
    "        self.conv1 = nn.Conv1d(1, 16, kernel_size=3)\n",
    "        self.conv2 = nn.Conv1d(16, 32, kernel_size=3)\n",
    "        self.fc1 = nn.Linear(1504, nb_hidden)\n",
    "        self.fc2 = nn.Linear(nb_hidden, 10)\n",
    "\n",
    "    def forward(self, x):\n",
    "        x = F.relu(F.max_pool1d(self.conv1(x), kernel_size=3, stride=2))\n",
    "        x = F.relu(F.max_pool1d(self.conv2(x), kernel_size=2, stride=2))\n",
    "        x = F.relu(self.fc1(x.view(-1, 1504)))\n",
    "        x = self.fc2(x)\n",
    "        return x\n",
    "\n",
    "class Net2(nn.Module):\n",
    "    def __init__(self):\n",
    "        super(Net2, self).__init__()\n",
    "        nb_hidden = 200\n",
    "        self.conv1 = nn.Conv2d(196, 32, kernel_size=5)\n",
    "        self.conv2 = nn.Conv2d(32, 32, kernel_size=5)\n",
    "        self.conv3 = nn.Conv2d(32, 64, kernel_size=2)\n",
    "        self.fc1 = nn.Linear(9 * 64, nb_hidden)\n",
    "        self.fc2 = nn.Linear(nb_hidden, 10)\n",
    "\n",
    "    def forward(self, x):\n",
    "        x = F.relu(F.max_pool2d(self.conv1(x), kernel_size=2))\n",
    "        x = F.relu(F.max_pool2d(self.conv2(x), kernel_size=2))\n",
    "        x = F.relu(self.conv3(x))\n",
    "        x = F.relu(self.fc1(x.view(-1, 9 * 64)))\n",
    "        x = self.fc2(x)\n",
    "        return x\n",
    "\n",
    "    def train_model(model, train_input, train_target, mini_batch_size):\n",
    "        criterion = nn.MSELoss()\n",
    "        eta = 1e-1\n",
    "\n",
    "        for e in range(25):\n",
    "            sum_loss = 0\n",
    "            for b in range(0, train_input.size(0), mini_batch_size):\n",
    "                output = model(train_input.narrow(0, b, mini_batch_size))\n",
    "                loss = criterion(output, train_target.narrow(0, b, mini_batch_size))\n",
    "                model.zero_grad()\n",
    "                loss.backward()\n",
    "                sum_loss = sum_loss + loss.item()\n",
    "                for p in model.parameters():\n",
    "                    p.data.sub_(eta * p.grad.data)\n",
    "            print(e, sum_loss)"
   ]
  },
  {
   "cell_type": "code",
   "execution_count": 12,
   "metadata": {},
   "outputs": [
    {
     "name": "stdout",
     "output_type": "stream",
     "text": [
      "Dimension of train_input1: torch.Size([1000, 1, 196])\n",
      "Dimension of train_input1: torch.Size([1000, 1, 196])\n"
     ]
    }
   ],
   "source": [
    "train_input1_reshape = torch.unsqueeze(train_input1, 1)\n",
    "print(\"Dimension of train_input1: {}\".format(torch.unsqueeze(train_input1, 1).shape))\n",
    "\n",
    "test_input1_reshape = torch.unsqueeze(test_input1, 1)\n",
    "print(\"Dimension of train_input1: {}\".format(torch.unsqueeze(test_input1, 1).shape))"
   ]
  },
  {
   "cell_type": "code",
   "execution_count": 19,
   "metadata": {},
   "outputs": [],
   "source": [
    "def compute_nb_errors(model, data_input, data_target, one_hot_encoded):\n",
    "\n",
    "    nb_data_errors = 0\n",
    "\n",
    "    for b in range(0, data_input.size(0), mini_batch_size):\n",
    "        output = model(data_input.narrow(0, b, mini_batch_size))\n",
    "        _, predicted_classes = torch.max(output.data, 1)\n",
    "        for k in range(mini_batch_size):\n",
    "            # max needed if one-hot encoded\n",
    "            target = data_target.data[b + k].max(0)[1] if one_hot_encoded else data_target.data[b + k]\n",
    "            if target != predicted_classes[k]:\n",
    "                nb_data_errors = nb_data_errors + 1\n",
    "\n",
    "    return nb_data_errors"
   ]
  },
  {
   "cell_type": "code",
   "execution_count": 20,
   "metadata": {},
   "outputs": [
    {
     "name": "stdout",
     "output_type": "stream",
     "text": [
      "test error Net 9.50% 95/1000\n",
      "test error Net 8.40% 84/1000\n",
      "test error Net 11.00% 110/1000\n",
      "test error Net 8.20% 82/1000\n",
      "test error Net 8.90% 89/1000\n",
      "test error Net 8.40% 84/1000\n",
      "test error Net 9.70% 97/1000\n",
      "test error Net 10.00% 100/1000\n",
      "test error Net 9.00% 90/1000\n",
      "test error Net 9.20% 92/1000\n"
     ]
    }
   ],
   "source": [
    "from torch.nn import functional as F\n",
    "\n",
    "mini_batch_size = 100\n",
    "\n",
    "for k in range(10):\n",
    "    model = Net(100)\n",
    "    train_model(model, train_input1_reshape, train_classes1, mini_batch_size)\n",
    "    nb_test_errors = compute_nb_errors(model, test_input1_reshape, test_classes1, one_hot_encoded=True)\n",
    "    print('test error Net {:0.2f}% {:d}/{:d}'.format((100 * nb_test_errors) / test_input.size(0),\n",
    "                                                      nb_test_errors, test_input.size(0)))"
   ]
  }
 ],
 "metadata": {
  "kernelspec": {
   "display_name": "Python 3",
   "language": "python",
   "name": "python3"
  },
  "language_info": {
   "codemirror_mode": {
    "name": "ipython",
    "version": 3
   },
   "file_extension": ".py",
   "mimetype": "text/x-python",
   "name": "python",
   "nbconvert_exporter": "python",
   "pygments_lexer": "ipython3",
   "version": "3.6.5"
  },
  "toc": {
   "base_numbering": 1,
   "nav_menu": {},
   "number_sections": false,
   "sideBar": true,
   "skip_h1_title": false,
   "title_cell": "Table of Contents",
   "title_sidebar": "Contents",
   "toc_cell": false,
   "toc_position": {},
   "toc_section_display": true,
   "toc_window_display": false
  },
  "varInspector": {
   "cols": {
    "lenName": 16,
    "lenType": 16,
    "lenVar": 40
   },
   "kernels_config": {
    "python": {
     "delete_cmd_postfix": "",
     "delete_cmd_prefix": "del ",
     "library": "var_list.py",
     "varRefreshCmd": "print(var_dic_list())"
    },
    "r": {
     "delete_cmd_postfix": ") ",
     "delete_cmd_prefix": "rm(",
     "library": "var_list.r",
     "varRefreshCmd": "cat(var_dic_list()) "
    }
   },
   "position": {
    "height": "268px",
    "left": "944px",
    "right": "20px",
    "top": "120px",
    "width": "316px"
   },
   "types_to_exclude": [
    "module",
    "function",
    "builtin_function_or_method",
    "instance",
    "_Feature"
   ],
   "window_display": false
  }
 },
 "nbformat": 4,
 "nbformat_minor": 2
}
