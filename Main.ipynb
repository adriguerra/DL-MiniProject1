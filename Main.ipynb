{
 "cells": [
  {
   "cell_type": "code",
   "execution_count": 1,
   "metadata": {},
   "outputs": [],
   "source": [
    "from dlc_practical_prologue import *"
   ]
  },
  {
   "cell_type": "code",
   "execution_count": 2,
   "metadata": {},
   "outputs": [],
   "source": [
    "def convert_to_one_hot_labels(input, target):\n",
    "    tmp = input.new_zeros(target.size(0), target.max() + 1)\n",
    "    tmp.scatter_(1, target.view(-1, 1), 1.0)\n",
    "    return tmp\n",
    "\n",
    "def normalize(train_input, test_input):\n",
    "    mu, std = train_input.mean(), train_input.std()\n",
    "    train_input.sub_(mu).div_(std)\n",
    "    test_input.sub_(mu).div_(std)\n",
    "    return train_input, test_input\n",
    "\n",
    "def backward_pass(w1, b1, w2, b2,\n",
    "                  t,\n",
    "                  x, s1, x1, s2, x2,\n",
    "                  dl_dw1, dl_db1, dl_dw2, dl_db2):\n",
    "    x0 = x\n",
    "    dl_dx2 = dloss(x2, t)\n",
    "    dl_ds2 = dsigma(s2) * dl_dx2\n",
    "    dl_dx1 = w2.t().mv(dl_ds2)\n",
    "    dl_ds1 = dsigma(s1) * dl_dx1\n",
    "\n",
    "    dl_dw2.add_(dl_ds2.view(-1, 1).mm(x1.view(1, -1)))\n",
    "    dl_db2.add_(dl_ds2)\n",
    "    dl_dw1.add_(dl_ds1.view(-1, 1).mm(x0.view(1, -1)))\n",
    "    dl_db1.add_(dl_ds1)\n",
    "    \n",
    "def forward_pass(w1, b1, w2, b2, x):\n",
    "    x0 = x\n",
    "    s1 = w1.mv(x0) + b1\n",
    "    x1 = sigma(s1)\n",
    "    s2 = w2.mv(x1) + b2\n",
    "    x2 = sigma(s2)\n",
    "    \n",
    "\n",
    "    return x0, s1, x1, s2, x2\n",
    "\n",
    "def sigma(x):\n",
    "    return torch.tanh(x)\n",
    "\n",
    "def dsigma(x):\n",
    "    return 4 * (x.exp() + x.mul(-1).exp()).pow(-2)\n",
    "\n",
    "def loss(v, t):\n",
    "    return (v - t).pow(2).sum()\n",
    "\n",
    "def dloss(v, t):\n",
    "    return 2 * (v - t)"
   ]
  },
  {
   "cell_type": "markdown",
   "metadata": {},
   "source": [
    "## Load datasets"
   ]
  },
  {
   "cell_type": "code",
   "execution_count": 3,
   "metadata": {},
   "outputs": [],
   "source": [
    "train_input, train_target, train_classes, test_input, test_target, test_classes = generate_pair_sets(1000)"
   ]
  },
  {
   "cell_type": "markdown",
   "metadata": {},
   "source": [
    "Name | Tensor dimension | Type | Content\n",
    "-----|-----|-----|-----\n",
    "`train_input` | N × 2 × 14 × 14 | float32 | Images\n",
    "`train_target` | N | int64 | Class to predict ∈ {0, 1}\n",
    "`train_classes` | N × 2 | int64 | Classes of the two digits ∈ {0, . . . , 9}\n",
    "`test_input` | N × 2 × 14 × 14 | float32 | Images\n",
    "`test_target` | N | int64 | Class | to predict ∈ {0, 1}\n",
    "`test_classes` | N × 2 | int64 | Classes of the two digits ∈ {0, . . . , 9}"
   ]
  },
  {
   "cell_type": "markdown",
   "metadata": {},
   "source": [
    "## Data preprocessing"
   ]
  },
  {
   "cell_type": "code",
   "execution_count": 4,
   "metadata": {},
   "outputs": [],
   "source": [
    "train_input = train_input.clone().reshape(train_input.size(0), 2, -1)\n",
    "test_input = test_input.clone().reshape(test_input.size(0), 2, -1)"
   ]
  },
  {
   "cell_type": "code",
   "execution_count": 5,
   "metadata": {},
   "outputs": [],
   "source": [
    "train_input1 = train_input[:, 0]\n",
    "train_input2 = train_input[:, 1]\n",
    "\n",
    "test_input1 = test_input[:, 0]\n",
    "test_input2 = test_input[:, 1]"
   ]
  },
  {
   "cell_type": "code",
   "execution_count": 6,
   "metadata": {},
   "outputs": [],
   "source": [
    "train_classes1 = train_classes[:,0]\n",
    "train_classes2 = train_classes[:,1]\n",
    "\n",
    "test_classes1 = test_classes[:,0]\n",
    "test_classes2 = test_classes[:,1]"
   ]
  },
  {
   "cell_type": "code",
   "execution_count": 7,
   "metadata": {},
   "outputs": [],
   "source": [
    "train_input1 = 0.9*train_input1\n",
    "train_input2 = 0.9*train_input2\n",
    "\n",
    "test_input1 = 0.9*test_input1\n",
    "test_input2 = 0.9*test_input2"
   ]
  },
  {
   "cell_type": "code",
   "execution_count": 8,
   "metadata": {},
   "outputs": [],
   "source": [
    "train_classes1 = convert_to_one_hot_labels(train_input1, train_classes1)\n",
    "train_classes2 = convert_to_one_hot_labels(train_input2, train_classes2)\n",
    "\n",
    "test_classes1 = convert_to_one_hot_labels(test_input1, test_classes1)\n",
    "test_classes2 = convert_to_one_hot_labels(test_input2, test_classes2)\n",
    "\n",
    "train_input1, test_classes1 = normalize(train_input1, test_classes1)\n",
    "train_input2, test_classes2 = normalize(train_input2, test_classes2)"
   ]
  },
  {
   "cell_type": "code",
   "execution_count": 9,
   "metadata": {},
   "outputs": [
    {
     "name": "stdout",
     "output_type": "stream",
     "text": [
      "torch.Size([1000, 10])\n"
     ]
    }
   ],
   "source": [
    "print(test_classes1.shape)"
   ]
  },
  {
   "cell_type": "markdown",
   "metadata": {},
   "source": [
    "## Architecture 1 (Lab 3)"
   ]
  },
  {
   "cell_type": "code",
   "execution_count": 10,
   "metadata": {},
   "outputs": [],
   "source": [
    "def initialize_params(nb_hidden, epsilon, size, nb_classes):\n",
    "    w1 = torch.empty(nb_hidden, size).normal_(0, epsilon)\n",
    "    b1 = torch.empty(nb_hidden).normal_(0, epsilon)\n",
    "    w2 = torch.empty(nb_classes, nb_hidden).normal_(0, epsilon)\n",
    "    b2 = torch.empty(nb_classes).normal_(0, epsilon)\n",
    "    \n",
    "    dl_dw1 = torch.empty(w1.size())\n",
    "    dl_db1 = torch.empty(b1.size())\n",
    "    dl_dw2 = torch.empty(w2.size())\n",
    "    dl_db2 = torch.empty(b2.size())\n",
    "    \n",
    "    return w1, b1, w2, b2, dl_dw1, dl_db1, dl_dw2, dl_db2"
   ]
  },
  {
   "cell_type": "code",
   "execution_count": 11,
   "metadata": {},
   "outputs": [],
   "source": [
    "def train_model(w1, b1, w2, b2, dl_dw1, dl_db1, dl_dw2, dl_db2, train_input, train_target, acc_loss):\n",
    "    \n",
    "    for k in range(nb_epochs): \n",
    "        # Back-prop\n",
    "        nb_train_errors = 0\n",
    "\n",
    "        dl_dw1.zero_()\n",
    "        dl_db1.zero_()\n",
    "        dl_dw2.zero_()\n",
    "        dl_db2.zero_()\n",
    "\n",
    "        for n in range(nb_train_samples):\n",
    "            x0, s1, x1, s2, x2 = forward_pass(w1, b1, w2, b2, train_input[n])\n",
    "\n",
    "            pred = x2.max(0)[1].item()\n",
    "            if train_target[n, pred] < 0.5: \n",
    "                nb_train_errors = nb_train_errors + 1\n",
    "            acc_loss = acc_loss + loss(x2, train_target[n])\n",
    "\n",
    "            backward_pass(w1, b1, w2, b2,\n",
    "                          train_target[n],\n",
    "                          x0, s1, x1, s2, x2,\n",
    "                          dl_dw1, dl_db1, dl_dw2, dl_db2)\n",
    "\n",
    "        # Gradient step\n",
    "\n",
    "        w1 = w1 - eta * dl_dw1\n",
    "        b1 = b1 - eta * dl_db1\n",
    "        w2 = w2 - eta * dl_dw2\n",
    "        b2 = b2 - eta * dl_db2\n",
    "    \n",
    "    return w1, b1, w2, b2, nb_train_errors"
   ]
  },
  {
   "cell_type": "code",
   "execution_count": 12,
   "metadata": {},
   "outputs": [],
   "source": [
    "def test_errors(w1, b1, w2, b2, train_input, test_input, test_target, acc_loss, nb_train_errors):\n",
    "    \n",
    "    for k in range(nb_epochs):\n",
    "        nb_test_errors = 0\n",
    "        output = []\n",
    "    \n",
    "        print('test_input',test_input[0].shape)\n",
    "        for n in range(test_input.size(0)):\n",
    "            _, _, _, _, x2 = forward_pass(w1, b1, w2, b2, test_input[n])\n",
    "            output.append(x2)\n",
    "    \n",
    "            pred = x2.max(0)[1].item()\n",
    "            if test_target[n, pred] < 0.5: \n",
    "                nb_test_errors = nb_test_errors + 1\n",
    "\n",
    "        print('{:d} acc_train_loss {:.02f} acc_train_error {:.02f}% test_error {:.02f}%'\n",
    "              .format(k,\n",
    "                      acc_loss,\n",
    "                      (100 * nb_train_errors) / train_input.size(0),\n",
    "                      (100 * nb_test_errors) / test_input.size(0)))\n",
    "    return output"
   ]
  },
  {
   "cell_type": "code",
   "execution_count": 13,
   "metadata": {},
   "outputs": [],
   "source": [
    "eta = 0.1\n",
    "epsilon = 1**-6\n",
    "nb_hidden = 50"
   ]
  },
  {
   "cell_type": "code",
   "execution_count": 14,
   "metadata": {},
   "outputs": [],
   "source": [
    "nb_train_samples = train_input.size(0)\n",
    "nb_hidden = 50\n",
    "eta = 1e-1 / nb_train_samples\n",
    "epsilon = 1e-6\n",
    "nb_classes = 10\n",
    "\n",
    "img1_w1, img1_b1, img1_w2, img1_b2, img1_dl_dw1, img1_dl_db1, img1_dl_dw2, img1_dl_db2 = \\\n",
    "initialize_params(nb_hidden, epsilon, train_input1.size(1), nb_classes)\n",
    "\n",
    "img2_w1, img2_b1, img2_w2, img2_b2, img2_dl_dw1, img2_dl_db1, img2_dl_dw2, img2_dl_db2 = \\\n",
    "initialize_params(nb_hidden, epsilon, train_input2.size(1), nb_classes)"
   ]
  },
  {
   "cell_type": "code",
   "execution_count": 15,
   "metadata": {},
   "outputs": [],
   "source": [
    "# nb_epochs = 25\n",
    "# acc_loss = 0\n",
    "# print(\"training of first image\")\n",
    "\n",
    "# img1_w1, img1_b1, img1_w2, img1_b2, nb_train_errors_1 = train_model(img1_w1, img1_b1, img1_w2, \n",
    "#                                                      img1_b2, img1_dl_dw1, img1_dl_db1, img1_dl_dw2, img1_dl_db2,\n",
    "#                                                      train_input1, train_classes1, acc_loss)\n",
    "\n",
    "# img1_output = test_errors(img1_w1, img1_b1, img1_w2, img1_b2, \n",
    "#                               train_input1, test_input1, test_classes1, acc_loss, nb_train_errors_1)\n",
    "\n",
    "# print(\"training second image\")\n",
    "\n",
    "\n",
    "# img2_w1, img2_b1, img2_w2, img2_b2, nb_train_errors_2 = train_model(img2_w1, img2_b1, img2_w2, img2_b2, \n",
    "#                                                      img2_dl_dw1, img2_dl_db1, img2_dl_dw2, img2_dl_db2,\n",
    "#                                                      train_input2, train_classes2, acc_loss)\n",
    "\n",
    "# img2_output = test_errors(img2_w1, img2_b1, img2_w2, img2_b2,\n",
    "#             train_input2, test_input2, test_classes2, acc_loss, nb_train_errors_2)\n"
   ]
  },
  {
   "cell_type": "markdown",
   "metadata": {},
   "source": [
    "## Architecture Lab 5"
   ]
  },
  {
   "cell_type": "code",
   "execution_count": 16,
   "metadata": {},
   "outputs": [],
   "source": [
    "import torch\n",
    "import math\n",
    "\n",
    "from torch import optim\n",
    "from torch import Tensor\n",
    "from torch import nn\n",
    "from torch.autograd import Variable"
   ]
  },
  {
   "cell_type": "code",
   "execution_count": 17,
   "metadata": {},
   "outputs": [],
   "source": [
    "mini_batch_size = 100"
   ]
  },
  {
   "cell_type": "code",
   "execution_count": 18,
   "metadata": {},
   "outputs": [],
   "source": [
    "def train_model(model, train_input, train_target):\n",
    "    criterion = nn.CrossEntropyLoss()\n",
    "    optimizer = optim.SGD(model.parameters(), lr = 1e-1)\n",
    "    nb_epochs = 250\n",
    "\n",
    "    for e in range(nb_epochs):\n",
    "        for b in range(0, train_input.size(0), mini_batch_size):\n",
    "            output = model(train_input.narrow(0, b, mini_batch_size))\n",
    "            # max needed if train_target is one-hot encoded\n",
    "            loss = criterion(output, train_target.narrow(0, b, mini_batch_size).max(1)[1])\n",
    "            model.zero_grad()\n",
    "            loss.backward()\n",
    "            optimizer.step()"
   ]
  },
  {
   "cell_type": "code",
   "execution_count": 41,
   "metadata": {},
   "outputs": [],
   "source": [
    "def compute_nb_errors(model, data_input, data_target):\n",
    "\n",
    "    nb_data_errors = 0\n",
    "\n",
    "    for b in range(0, data_input.size(0), mini_batch_size):\n",
    "        output = model(data_input.narrow(0, b, mini_batch_size))\n",
    "        _, predicted_classes = torch.max(output.data, 1)\n",
    "        for k in range(mini_batch_size):\n",
    "            # max needed if one-hot encoded\n",
    "            if data_target.data[b + k].max(0)[1] != predicted_classes[k]:\n",
    "                nb_data_errors = nb_data_errors + 1\n",
    "\n",
    "    return nb_data_errors"
   ]
  },
  {
   "cell_type": "code",
   "execution_count": 20,
   "metadata": {},
   "outputs": [],
   "source": [
    "def create_shallow_model():\n",
    "    return nn.Sequential(\n",
    "        nn.Linear(196, 50),\n",
    "        nn.ReLU(),\n",
    "        nn.Linear(50, 10)\n",
    "    )"
   ]
  },
  {
   "cell_type": "code",
   "execution_count": 21,
   "metadata": {},
   "outputs": [],
   "source": [
    "def create_deep_model():\n",
    "    return nn.Sequential(\n",
    "        nn.Linear(196, 4),\n",
    "        nn.ReLU(),\n",
    "        nn.Linear(4, 8),\n",
    "        nn.ReLU(),\n",
    "        nn.Linear(8, 16),\n",
    "        nn.ReLU(),\n",
    "        nn.Linear(16, 32),\n",
    "        nn.ReLU(),\n",
    "        nn.Linear(32, 64),\n",
    "        nn.ReLU(),\n",
    "        nn.Linear(64, 128),\n",
    "        nn.ReLU(),\n",
    "        nn.Linear(128, 10)\n",
    "    )"
   ]
  },
  {
   "cell_type": "code",
   "execution_count": 22,
   "metadata": {},
   "outputs": [
    {
     "name": "stdout",
     "output_type": "stream",
     "text": [
      "torch.Size([1000, 196])\n"
     ]
    }
   ],
   "source": [
    "print(train_input1.shape)"
   ]
  },
  {
   "cell_type": "code",
   "execution_count": 23,
   "metadata": {},
   "outputs": [],
   "source": [
    "train_input1, train_classes1 = Variable(train_input1), Variable(train_classes1)\n",
    "test_input1, test_classes1 = Variable(test_input1), Variable(test_classes1)"
   ]
  },
  {
   "cell_type": "code",
   "execution_count": 42,
   "metadata": {},
   "outputs": [
    {
     "name": "stdout",
     "output_type": "stream",
     "text": [
      "std create_shallow_model -1.000000 train_error 0.00% test_error 16.90%\n",
      "std create_deep_model -1.000000 train_error 13.80% test_error 51.40%\n",
      "std create_shallow_model 0.001000 train_error 0.00% test_error 21.50%\n",
      "std create_deep_model 0.001000 train_error 87.00% test_error 88.60%\n",
      "std create_shallow_model 0.010000 train_error 0.00% test_error 18.80%\n",
      "std create_deep_model 0.010000 train_error 87.00% test_error 88.60%\n",
      "std create_shallow_model 0.100000 train_error 0.00% test_error 17.40%\n",
      "std create_deep_model 0.100000 train_error 18.30% test_error 54.00%\n",
      "std create_shallow_model 1.000000 train_error 0.00% test_error 42.40%\n",
      "std create_deep_model 1.000000 train_error 91.80% test_error 90.50%\n",
      "std create_shallow_model 10.000000 train_error 0.00% test_error 41.40%\n",
      "std create_deep_model 10.000000 train_error 91.80% test_error 90.50%\n"
     ]
    }
   ],
   "source": [
    "for std in [ -1, 1e-3, 1e-2, 1e-1, 1e-0, 1e1 ]:\n",
    "\n",
    "    for m in [ create_shallow_model, create_deep_model ]:\n",
    "\n",
    "        model = m()\n",
    "\n",
    "        if std > 0:\n",
    "            for p in model.parameters(): \n",
    "                p.data.normal_(0, std)\n",
    "\n",
    "        train_model(model, train_input1, train_classes1)\n",
    "\n",
    "        print('std {:s} {:f} train_error {:.02f}% test_error {:.02f}%'.format(\n",
    "            m.__name__,\n",
    "            std,\n",
    "            compute_nb_errors(model, train_input1, train_classes1) / train_input1.size(0) * 100,\n",
    "            compute_nb_errors(model, test_input1, test_classes1) / test_input1.size(0) * 100\n",
    "        )\n",
    "        )"
   ]
  },
  {
   "cell_type": "code",
   "execution_count": null,
   "metadata": {},
   "outputs": [],
   "source": []
  }
 ],
 "metadata": {
  "kernelspec": {
   "display_name": "Python 3",
   "language": "python",
   "name": "python3"
  },
  "language_info": {
   "codemirror_mode": {
    "name": "ipython",
    "version": 3
   },
   "file_extension": ".py",
   "mimetype": "text/x-python",
   "name": "python",
   "nbconvert_exporter": "python",
   "pygments_lexer": "ipython3",
   "version": "3.6.8"
  },
  "toc": {
   "base_numbering": 1,
   "nav_menu": {},
   "number_sections": false,
   "sideBar": true,
   "skip_h1_title": false,
   "title_cell": "Table of Contents",
   "title_sidebar": "Contents",
   "toc_cell": false,
   "toc_position": {},
   "toc_section_display": true,
   "toc_window_display": false
  },
  "varInspector": {
   "cols": {
    "lenName": 16,
    "lenType": 16,
    "lenVar": 40
   },
   "kernels_config": {
    "python": {
     "delete_cmd_postfix": "",
     "delete_cmd_prefix": "del ",
     "library": "var_list.py",
     "varRefreshCmd": "print(var_dic_list())"
    },
    "r": {
     "delete_cmd_postfix": ") ",
     "delete_cmd_prefix": "rm(",
     "library": "var_list.r",
     "varRefreshCmd": "cat(var_dic_list()) "
    }
   },
   "types_to_exclude": [
    "module",
    "function",
    "builtin_function_or_method",
    "instance",
    "_Feature"
   ],
   "window_display": false
  }
 },
 "nbformat": 4,
 "nbformat_minor": 2
}
