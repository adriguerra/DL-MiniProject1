{
 "cells": [
  {
   "cell_type": "code",
   "execution_count": 52,
   "metadata": {},
   "outputs": [],
   "source": [
    "from dlc_practical_prologue import *\n",
    "from helper_functions import *\n",
    "from torch import nn\n",
    "from torch.autograd import Variable"
   ]
  },
  {
   "cell_type": "markdown",
   "metadata": {},
   "source": [
    "## Load datasets"
   ]
  },
  {
   "cell_type": "code",
   "execution_count": 2,
   "metadata": {},
   "outputs": [],
   "source": [
    "train_input, train_target, train_classes, test_input, test_target, test_classes = generate_pair_sets(1000)"
   ]
  },
  {
   "cell_type": "markdown",
   "metadata": {},
   "source": [
    "Name | Tensor dimension | Type | Content\n",
    "-----|-----|-----|-----\n",
    "`train_input` | N × 2 × 14 × 14 | float32 | Images\n",
    "`train_target` | N | int64 | Class to predict ∈ {0, 1}\n",
    "`train_classes` | N × 2 | int64 | Classes of the two digits ∈ {0, . . . , 9}\n",
    "`test_input` | N × 2 × 14 × 14 | float32 | Images\n",
    "`test_target` | N | int64 | Class | to predict ∈ {0, 1}\n",
    "`test_classes` | N × 2 | int64 | Classes of the two digits ∈ {0, . . . , 9}"
   ]
  },
  {
   "cell_type": "markdown",
   "metadata": {},
   "source": [
    "## Preprocess Data"
   ]
  },
  {
   "cell_type": "code",
   "execution_count": 3,
   "metadata": {},
   "outputs": [],
   "source": [
    "train_input1, train_input2, \\\n",
    "train_classes1, train_classes2, \\\n",
    "test_input1, test_input2, \\\n",
    "test_classes1, test_classes2 = preprocess_data(train_input, train_classes, test_input, test_classes)"
   ]
  },
  {
   "cell_type": "markdown",
   "metadata": {},
   "source": [
    "## Architecture Lab 5"
   ]
  },
  {
   "cell_type": "code",
   "execution_count": 4,
   "metadata": {},
   "outputs": [],
   "source": [
    "train_input1, train_classes1 = Variable(train_input1), Variable(train_classes1)\n",
    "test_input1, test_classes1 = Variable(test_input1), Variable(test_classes1)"
   ]
  },
  {
   "cell_type": "code",
   "execution_count": 44,
   "metadata": {},
   "outputs": [],
   "source": [
    "def create_shallow_model():\n",
    "    return nn.Sequential(\n",
    "        nn.Linear(196, 50),\n",
    "        nn.BatchNorm1d(50),\n",
    "        nn.ReLU(),\n",
    "        nn.Linear(50, 10))"
   ]
  },
  {
   "cell_type": "code",
   "execution_count": 43,
   "metadata": {},
   "outputs": [],
   "source": [
    "def create_deep_model():\n",
    "    return nn.Sequential(\n",
    "        nn.Linear(196, 4),\n",
    "        nn.BatchNorm1d(4),\n",
    "        nn.ReLU(),\n",
    "        nn.Linear(4, 8),\n",
    "        nn.BatchNorm1d(8),\n",
    "        nn.ReLU(),\n",
    "        nn.Linear(8, 16),\n",
    "        nn.BatchNorm1d(16),\n",
    "        nn.ReLU(),\n",
    "        nn.Linear(16, 32),\n",
    "        nn.BatchNorm1d(32),\n",
    "        nn.ReLU(),\n",
    "        nn.Linear(32, 64),\n",
    "        nn.BatchNorm1d(64),\n",
    "        nn.ReLU(),\n",
    "        nn.Linear(64, 128),\n",
    "        nn.BatchNorm1d(128),\n",
    "        nn.ReLU(),\n",
    "        nn.Linear(128, 10))"
   ]
  },
  {
   "cell_type": "code",
   "execution_count": 7,
   "metadata": {},
   "outputs": [],
   "source": [
    "models = [create_shallow_model, create_deep_model]"
   ]
  },
  {
   "cell_type": "code",
   "execution_count": 45,
   "metadata": {
    "scrolled": true
   },
   "outputs": [
    {
     "name": "stdout",
     "output_type": "stream",
     "text": [
      "std -1.000000 create_shallow_model train_error 0.00% test_error 18.80%\n",
      "std 0.001000 create_shallow_model train_error 0.00% test_error 19.90%\n",
      "std 0.010000 create_shallow_model train_error 0.00% test_error 17.80%\n",
      "std 0.100000 create_shallow_model train_error 0.00% test_error 15.60%\n",
      "std 1.000000 create_shallow_model train_error 0.00% test_error 32.80%\n",
      "std 10.000000 create_shallow_model train_error 0.00% test_error 35.60%\n",
      "std -1.000000 create_deep_model train_error 7.80% test_error 50.20%\n",
      "std 0.001000 create_deep_model train_error 87.00% test_error 88.60%\n",
      "std 0.010000 create_deep_model train_error 87.00% test_error 88.60%\n",
      "std 0.100000 create_deep_model train_error 14.80% test_error 50.70%\n",
      "std 1.000000 create_deep_model train_error 91.80% test_error 90.50%\n",
      "std 10.000000 create_deep_model train_error 91.80% test_error 90.50%\n"
     ]
    }
   ],
   "source": [
    "stds = [-1, 1e-3, 1e-2, 1e-1, 1e-0, 1e1]\n",
    "for model in models:\n",
    "    compute_errors(m=model, \n",
    "                   train_input=train_input1, \n",
    "                   train_classes=train_classes1, \n",
    "                   test_input=test_input1,\n",
    "                   test_classes=test_classes1,\n",
    "                   stds=stds)"
   ]
  },
  {
   "cell_type": "code",
   "execution_count": 53,
   "metadata": {},
   "outputs": [
    {
     "name": "stdout",
     "output_type": "stream",
     "text": [
      "Computed standard deviation according to 'Xavier initialization': 0.183\n",
      "std 0.182574 create_shallow_model train_error 0.00% test_error 17.90%\n",
      "Computed standard deviation according to 'Xavier initialization': 0.120\n",
      "std 0.120386 create_deep_model train_error 39.20% test_error 58.80%\n"
     ]
    }
   ],
   "source": [
    "# Xavier initialization\n",
    "for model in models:\n",
    "    compute_errors(m=model, \n",
    "                   train_input=train_input1, \n",
    "                   train_classes=train_classes1, \n",
    "                   test_input=test_input1,\n",
    "                   test_classes=test_classes1,\n",
    "                   stds=None)"
   ]
  },
  {
   "cell_type": "code",
   "execution_count": null,
   "metadata": {},
   "outputs": [],
   "source": []
  }
 ],
 "metadata": {
  "kernelspec": {
   "display_name": "Python 3",
   "language": "python",
   "name": "python3"
  },
  "language_info": {
   "codemirror_mode": {
    "name": "ipython",
    "version": 3
   },
   "file_extension": ".py",
   "mimetype": "text/x-python",
   "name": "python",
   "nbconvert_exporter": "python",
   "pygments_lexer": "ipython3",
   "version": "3.6.5"
  },
  "toc": {
   "base_numbering": 1,
   "nav_menu": {},
   "number_sections": false,
   "sideBar": true,
   "skip_h1_title": false,
   "title_cell": "Table of Contents",
   "title_sidebar": "Contents",
   "toc_cell": false,
   "toc_position": {},
   "toc_section_display": true,
   "toc_window_display": false
  },
  "varInspector": {
   "cols": {
    "lenName": 16,
    "lenType": 16,
    "lenVar": 40
   },
   "kernels_config": {
    "python": {
     "delete_cmd_postfix": "",
     "delete_cmd_prefix": "del ",
     "library": "var_list.py",
     "varRefreshCmd": "print(var_dic_list())"
    },
    "r": {
     "delete_cmd_postfix": ") ",
     "delete_cmd_prefix": "rm(",
     "library": "var_list.r",
     "varRefreshCmd": "cat(var_dic_list()) "
    }
   },
   "position": {
    "height": "268px",
    "left": "944px",
    "right": "20px",
    "top": "120px",
    "width": "316px"
   },
   "types_to_exclude": [
    "module",
    "function",
    "builtin_function_or_method",
    "instance",
    "_Feature"
   ],
   "window_display": false
  }
 },
 "nbformat": 4,
 "nbformat_minor": 2
}
