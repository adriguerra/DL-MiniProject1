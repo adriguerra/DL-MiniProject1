{
 "cells": [
  {
   "cell_type": "markdown",
   "metadata": {},
   "source": [

    "Recap. session 03.04.2019: discussion with teaching assistant. \n",

    "# Mini-Project 1"
   ]
  },
  {
   "cell_type": "markdown",
   "metadata": {},
   "source": [
    "Recap. session 03.04.2019: Discussion with teaching assistant. \n",
 3e695daa4bee7d0617d9fd27fc718bf21ed42a59
    "\n",
    "Do 3 different architectures:\n",
    "1. Fully-Connected Networks (Deep & Shallow)\n",
    "2. Convolution Neural Network \n",
    "3. Residual Neural Network\n",
    "\n",
    "For each architecture: \n",
    "- output 0 or 1 (directly predict if number is smaller or not)\n",
    "- output class (give digit of each image and do comparison)\n",
    "- output 0 or 1 + class of digit (enables 3 different loss functions)\n",
    "\n",
    "Note:\n",
    "<br> - Do weight sharing: each image enters a different building block (ask Ayyoub for clarification)"
   ]
  },
  {
   "cell_type": "code",
   "execution_count": 1,
   "metadata": {},
   "outputs": [],
   "source": [
    "from helper_functions import *\n",
    "from torch import nn\n",
    "from torch.autograd import Variable"
   ]
  },
  {
   "cell_type": "markdown",
   "metadata": {},
   "source": [
    "## Load datasets"
   ]
  },
  {
   "cell_type": "code",
   "execution_count": 2,
   "metadata": {},
   "outputs": [],
   "source": [
    "N = 1000\n",
    "train_input, train_target, train_classes, test_input, test_target, test_classes = generate_pair_sets(N)"
   ]
  },
  {
   "cell_type": "markdown",
   "metadata": {},
   "source": [
    "Name | Tensor dimension | Type | Content\n",
    "-----|-----|-----|-----\n",
    "`train_input` | N × 2 × 14 × 14 | float32 | Images\n",
    "`train_target` | N | int64 | Class to predict ∈ {0, 1}\n",
    "`train_classes` | N × 2 | int64 | Classes of the two digits ∈ {0, . . . , 9}\n",
    "`test_input` | N × 2 × 14 × 14 | float32 | Images\n",
    "`test_target` | N | int64 | Class | to predict ∈ {0, 1}\n",
    "`test_classes` | N × 2 | int64 | Classes of the two digits ∈ {0, . . . , 9}"
   ]
  },
  {
   "cell_type": "markdown",
   "metadata": {},
   "source": [
    "# Fully-Connected Networks"
   ]
  },
  {
   "cell_type": "markdown",
   "metadata": {},
   "source": [
    "## 1. Output 0 or 1"
   ]
  },
  {
   "cell_type": "markdown",
   "metadata": {},
   "source": [
    "### Preprocess Data"
   ]
  },
  {
   "cell_type": "code",
   "execution_count": 3,
   "metadata": {},
   "outputs": [],
   "source": [
    "train_input, test_input = reshape_data(train_input, test_input)"
   ]
  },
  {
   "cell_type": "markdown",
   "metadata": {},
   "source": [
    "### Define Models"
   ]
  },
  {
   "cell_type": "code",
   "execution_count": 4,
   "metadata": {},
   "outputs": [],
   "source": [
    "def create_shallow_model():\n",
    "    return nn.Sequential(\n",
    "        nn.Linear(196, 50),\n",
    "        nn.BatchNorm1d(50),\n",
    "        nn.ReLU(),\n",
    "        nn.Linear(50, 1))"
   ]
  },
  {
   "cell_type": "code",
   "execution_count": 5,
   "metadata": {},
   "outputs": [],
   "source": [
    "def create_deep_model():\n",
    "    return nn.Sequential(\n",
    "        nn.Linear(196, 4),\n",
    "        nn.BatchNorm1d(4),\n",
    "        nn.ReLU(),\n",
    "        nn.Linear(4, 8),\n",
    "        nn.BatchNorm1d(8),\n",
    "        nn.ReLU(),\n",
    "        nn.Linear(8, 16),\n",
    "        nn.BatchNorm1d(16),\n",
    "        nn.ReLU(),\n",
    "        nn.Linear(16, 32),\n",
    "        nn.BatchNorm1d(32),\n",
    "        nn.ReLU(),\n",
    "        nn.Linear(32, 64),\n",
    "        nn.BatchNorm1d(64),\n",
    "        nn.ReLU(),\n",
    "        nn.Linear(64, 128),\n",
    "        nn.BatchNorm1d(128),\n",
    "        nn.ReLU(),\n",
    "        nn.Linear(128, 1))"
   ]
  },
  {
   "cell_type": "code",
   "execution_count": 6,
   "metadata": {},
   "outputs": [],
   "source": [
    "models = [create_shallow_model, create_deep_model]"
   ]
  },
  {
   "cell_type": "markdown",
   "metadata": {},
   "source": [
    "### Test Models"
   ]
  },
  {
   "cell_type": "code",
   "execution_count": 7,
   "metadata": {
    "scrolled": true
   },
   "outputs": [],
   "source": [
    "# stds = [-1, 1e-3, 1e-2, 1e-1, 1e-0, 1e1]\n",
    "# for model in models:\n",
    "#     compute_errors(m=model, \n",
    "#                    train_input=train_input, \n",
    "#                    train_classes=, \n",
    "#                    test_input=test_input,\n",
    "#                    test_classes=,\n",
    "#                    stds=stds)"
   ]
  },
  {
   "cell_type": "markdown",
   "metadata": {},
   "source": [
    "## 2. Output Classes"
   ]
  },
  {
   "cell_type": "markdown",
   "metadata": {},
   "source": [
    "### Preprocess Data"
   ]
  },
  {
   "cell_type": "code",
   "execution_count": 8,
   "metadata": {},
   "outputs": [],
   "source": [
    "train_input, test_input = reshape_data(train_input, test_input)\n",
    "train_input1, train_input2, test_input1, test_input2, train_classes1, train_classes2, test_classes1, test_classes2 = split_img_data(train_input, test_input, train_classes, test_classes)\n",
    "\n",
    "train_input1 = 0.9*train_input1\n",
    "train_input2 = 0.9*train_input2\n",
    "\n",
    "test_input1 = 0.9*test_input1\n",
    "test_input2 = 0.9*test_input2\n",
    "\n",
    "train_classes1 = convert_to_one_hot_labels(train_input1, train_classes1)\n",
    "train_classes2 = convert_to_one_hot_labels(train_input2, train_classes2)\n",
    "\n",
    "test_classes1 = convert_to_one_hot_labels(test_input1, test_classes1)\n",
    "test_classes2 = convert_to_one_hot_labels(test_input2, test_classes2)\n",
    "\n",
    "train_input1, test_classes1 = normalize(train_input1, test_classes1)\n",
    "train_input2, test_classes2 = normalize(train_input2, test_classes2)"
   ]
  },
  {
   "cell_type": "code",
   "execution_count": 9,
   "metadata": {},
   "outputs": [],
   "source": [
    "train_input1, train_classes1 = Variable(train_input1), Variable(train_classes1)\n",
    "test_input1, test_classes1 = Variable(test_input1), Variable(test_classes1)"
   ]
  },
  {
   "cell_type": "markdown",
   "metadata": {},
   "source": [
    "### Define Models"
   ]
  },
  {
   "cell_type": "code",
   "execution_count": 10,
   "metadata": {},
   "outputs": [],
   "source": [
    "def create_shallow_model():\n",
    "    return nn.Sequential(\n",
    "        nn.Linear(196, 50),\n",
    "        nn.BatchNorm1d(50),\n",
    "        nn.ReLU(),\n",
    "        nn.Linear(50, 10))"
   ]
  },
  {
   "cell_type": "code",
   "execution_count": 11,
   "metadata": {},
   "outputs": [],
   "source": [
    "def create_deep_model():\n",
    "    return nn.Sequential(\n",
    "        nn.Linear(196, 4),\n",
    "        nn.BatchNorm1d(4),\n",
    "        nn.ReLU(),\n",
    "        nn.Linear(4, 8),\n",
    "        nn.BatchNorm1d(8),\n",
    "        nn.ReLU(),\n",
    "        nn.Linear(8, 16),\n",
    "        nn.BatchNorm1d(16),\n",
    "        nn.ReLU(),\n",
    "        nn.Linear(16, 32),\n",
    "        nn.BatchNorm1d(32),\n",
    "        nn.ReLU(),\n",
    "        nn.Linear(32, 64),\n",
    "        nn.BatchNorm1d(64),\n",
    "        nn.ReLU(),\n",
    "        nn.Linear(64, 128),\n",
    "        nn.BatchNorm1d(128),\n",
    "        nn.ReLU(),\n",
    "        nn.Linear(128, 10))"
   ]
  },
  {
   "cell_type": "code",
   "execution_count": 12,
   "metadata": {},
   "outputs": [],
   "source": [
    "models = [create_shallow_model, create_deep_model]"
   ]
  },
  {
   "cell_type": "markdown",
   "metadata": {},
   "source": [
    "### Test Models"
   ]
  },
  {
   "cell_type": "code",
   "execution_count": 13,
   "metadata": {
    "scrolled": true
   },
   "outputs": [
    {
     "name": "stdout",
     "output_type": "stream",
     "text": [
      "std -1.000000 create_shallow_model train_error 0.00% test_error 14.10%\n",
      "std 0.001000 create_shallow_model train_error 0.00% test_error 18.20%\n",
      "std 0.010000 create_shallow_model train_error 0.00% test_error 16.40%\n",
      "std 0.100000 create_shallow_model train_error 0.00% test_error 14.50%\n",
      "std 1.000000 create_shallow_model train_error 4.40% test_error 20.80%\n",
      "std 10.000000 create_shallow_model train_error 44.10% test_error 49.20%\n",
      "std -1.000000 create_deep_model train_error 0.00% test_error 25.40%\n",
      "std 0.001000 create_deep_model train_error 87.00% test_error 88.60%\n",
      "std 0.010000 create_deep_model train_error 87.00% test_error 88.60%\n",
      "std 0.100000 create_deep_model train_error 4.10% test_error 34.80%\n",
      "std 1.000000 create_deep_model train_error 47.90% test_error 69.70%\n",
      "std 10.000000 create_deep_model train_error 66.40% test_error 77.10%\n"
     ]
    }
   ],
   "source": [
    "stds = [-1, 1e-3, 1e-2, 1e-1, 1e-0, 1e1]\n",
    "for model in models:\n",
    "    compute_errors(m=model, \n",
    "                   train_input=train_input1, \n",
    "                   train_classes=train_classes1, \n",
    "                   test_input=test_input1,\n",
    "                   test_classes=test_classes1,\n",
    "                   stds=stds,\n",
    "                   one_hot_encoded=True)"
   ]
  },
  {
   "cell_type": "code",
   "execution_count": 14,
   "metadata": {},
   "outputs": [
    {
     "name": "stdout",
     "output_type": "stream",
     "text": [
      "Computed standard deviation according to 'Xavier initialization': 0.183\n",
      "std 0.182574 create_shallow_model train_error 0.00% test_error 14.80%\n",
      "Computed standard deviation according to 'Xavier initialization': 0.120\n",
      "std 0.120386 create_deep_model train_error 26.70% test_error 47.40%\n"
     ]
    }
   ],
   "source": [
    "# Xavier initialization\n",
    "for model in models:\n",
    "    compute_errors(m=model, \n",
    "                   train_input=train_input1, \n",
    "                   train_classes=train_classes1, \n",
    "                   test_input=test_input1,\n",
    "                   test_classes=test_classes1,\n",
    "                   stds=None,\n",
    "                   one_hot_encoded=True)"
   ]
  },
  {
   "cell_type": "markdown",
   "metadata": {},
   "source": [
    "# Architecture: CNN "
   ]
  },
  {
   "cell_type": "code",
   "execution_count": 10,
   "metadata": {},
   "outputs": [],
   "source": [
    "class Net(nn.Module):\n",
    "    def __init__(self, nb_hidden):\n",
    "        super(Net, self).__init__()\n",
    "        self.conv1 = nn.Conv1d(1, 16, kernel_size=3)\n",
    "        self.conv2 = nn.Conv1d(16, 32, kernel_size=3)\n",
    "        self.fc1 = nn.Linear(1504, nb_hidden)\n",
    "        self.fc2 = nn.Linear(nb_hidden, 10)\n",
    "\n",
    "    def forward(self, x):\n",
    "        x = F.relu(F.max_pool1d(self.conv1(x), kernel_size=3, stride=2))\n",
    "        x = F.relu(F.max_pool1d(self.conv2(x), kernel_size=2, stride=2))\n",
    "        x = F.relu(self.fc1(x.view(-1, 1504)))\n",
    "        x = self.fc2(x)\n",
    "        return x\n",
    "\n",
    "class Net2(nn.Module):\n",
    "    def __init__(self):\n",
    "        super(Net2, self).__init__()\n",
    "        nb_hidden = 200\n",
    "        self.conv1 = nn.Conv2d(196, 32, kernel_size=5)\n",
    "        self.conv2 = nn.Conv2d(32, 32, kernel_size=5)\n",
    "        self.conv3 = nn.Conv2d(32, 64, kernel_size=2)\n",
    "        self.fc1 = nn.Linear(9 * 64, nb_hidden)\n",
    "        self.fc2 = nn.Linear(nb_hidden, 10)\n",
    "\n",
    "    def forward(self, x):\n",
    "        x = F.relu(F.max_pool2d(self.conv1(x), kernel_size=2))\n",
    "        x = F.relu(F.max_pool2d(self.conv2(x), kernel_size=2))\n",
    "        x = F.relu(self.conv3(x))\n",
    "        x = F.relu(self.fc1(x.view(-1, 9 * 64)))\n",
    "        x = self.fc2(x)\n",
    "        return x"
   ]
  },
  {
   "cell_type": "code",
   "execution_count": 11,
   "metadata": {},
   "outputs": [],
   "source": [
    "def train_model(model, train_input, train_target, mini_batch_size):\n",
    "    criterion = nn.MSELoss()\n",
    "    eta = 1e-1\n",
    "\n",
    "    for e in range(25):\n",
    "        sum_loss = 0\n",
    "        for b in range(0, train_input.size(0), mini_batch_size):\n",
    "            output = model(train_input.narrow(0, b, mini_batch_size))\n",
    "            loss = criterion(output, train_target.narrow(0, b, mini_batch_size))\n",
    "            model.zero_grad()\n",
    "            loss.backward()\n",
    "            sum_loss = sum_loss + loss.item()\n",
    "            for p in model.parameters():\n",
    "                p.data.sub_(eta * p.grad.data)\n",
    "        print(e, sum_loss)"
   ]
  },
  {
   "cell_type": "code",
   "execution_count": 12,
   "metadata": {
    "scrolled": true
   },
   "outputs": [
    {
     "name": "stdout",
     "output_type": "stream",
     "text": [
      "Dimension of train_input1: torch.Size([1000, 1, 196])\n",
      "Dimension of train_input1: torch.Size([1000, 1, 196])\n"
     ]
    }
   ],
   "source": [
    "train_input1_reshape = torch.unsqueeze(train_input1, 1)\n",
    "print(\"Dimension of train_input1: {}\".format(torch.unsqueeze(train_input1, 1).shape))\n",
    "\n",
    "test_input1_reshape = torch.unsqueeze(test_input1, 1)\n",
    "print(\"Dimension of train_input1: {}\".format(torch.unsqueeze(test_input1, 1).shape))"
   ]
  },
  {
   "cell_type": "code",
   "execution_count": 15,
   "metadata": {},
   "outputs": [
    {
     "name": "stdout",
     "output_type": "stream",
     "text": [
      "0 0.9572007954120636\n",
      "1 0.8617191389203072\n",
      "2 0.824991762638092\n",
      "3 0.7880520895123482\n",
      "4 0.7502186670899391\n",
      "5 0.7120248153805733\n",
      "6 0.6745581701397896\n",
      "7 0.6393812671303749\n",
      "8 0.6072911247611046\n",
      "9 0.5787564739584923\n",
      "10 0.5544718913733959\n",
      "11 0.5341364815831184\n",
      "12 0.517110351473093\n",
      "13 0.5025110878050327\n",
      "14 0.4896506369113922\n",
      "15 0.4782041534781456\n",
      "16 0.46780380979180336\n",
      "17 0.45813464745879173\n",
      "18 0.44877777621150017\n",
      "19 0.43986701592803\n",
      "20 0.4309068098664284\n",
      "21 0.42196784913539886\n",
      "22 0.4146009013056755\n",
      "23 0.4078158289194107\n",
      "24 0.40093614906072617\n",
      "test error Net 20.50% 205/1000\n",
      "0 0.899069219827652\n",
      "1 0.8130897730588913\n",
      "2 0.7629782855510712\n",
      "3 0.718456320464611\n",
      "4 0.6774508282542229\n",
      "5 0.6395427584648132\n",
      "6 0.6066453568637371\n",
      "7 0.578169722110033\n",
      "8 0.5535849258303642\n",
      "9 0.5324447304010391\n",
      "10 0.5140047445893288\n",
      "11 0.49802880734205246\n",
      "12 0.4843694642186165\n",
      "13 0.47299744188785553\n",
      "14 0.4634193480014801\n",
      "15 0.4511067681014538\n",
      "16 0.43715689331293106\n",
      "17 0.42495349794626236\n",
      "18 0.41515304520726204\n",
      "19 0.40742481499910355\n",
      "20 0.3998069241642952\n",
      "21 0.3905245289206505\n",
      "22 0.3817916363477707\n",
      "23 0.3741113431751728\n",
      "24 0.3669236935675144\n",
      "test error Net 18.70% 187/1000\n",
      "0 0.9053896442055702\n",
      "1 0.8319573402404785\n",
      "2 0.7853622958064079\n",
      "3 0.7419207990169525\n",
      "4 0.7003114446997643\n",
      "5 0.6615621745586395\n",
      "6 0.6253823973238468\n",
      "7 0.5937706455588341\n",
      "8 0.5661524385213852\n",
      "9 0.54224993288517\n",
      "10 0.5215160511434078\n",
      "11 0.5034764967858791\n",
      "12 0.4889629855751991\n",
      "13 0.481252484023571\n",
      "14 0.4752051793038845\n",
      "15 0.460581012070179\n",
      "16 0.44662800431251526\n",
      "17 0.4364157095551491\n",
      "18 0.42744218930602074\n",
      "19 0.4185468852519989\n",
      "20 0.4086172506213188\n",
      "21 0.39797091856598854\n",
      "22 0.38736967742443085\n",
      "23 0.3780747875571251\n",
      "24 0.3711548261344433\n",
      "test error Net 18.50% 185/1000\n",
      "0 0.923400029540062\n",
      "1 0.8152996152639389\n",
      "2 0.75555619597435\n",
      "3 0.7028520181775093\n",
      "4 0.6547002159059048\n",
      "5 0.6126763597130775\n",
      "6 0.5769540816545486\n",
      "7 0.5460170358419418\n",
      "8 0.5206519551575184\n",
      "9 0.4994722455739975\n",
      "10 0.4819064140319824\n",
      "11 0.46983378380537033\n",
      "12 0.4731108210980892\n",
      "13 0.4625350870192051\n",
      "14 0.4361397437751293\n",
      "15 0.42288220673799515\n",
      "16 0.41641562059521675\n",
      "17 0.4168090708553791\n",
      "18 0.41459212079644203\n",
      "19 0.4117695167660713\n",
      "20 0.3993198610842228\n",
      "21 0.38531751185655594\n",
      "22 0.37595780193805695\n",
      "23 0.3699093572795391\n",
      "24 0.361881535500288\n",
      "test error Net 12.60% 126/1000\n",
      "0 0.9258672967553139\n",
      "1 0.8039930835366249\n",
      "2 0.7440826371312141\n",
      "3 0.6943816095590591\n",
      "4 0.6523831859230995\n",
      "5 0.6166923381388187\n",
      "6 0.586729284375906\n",
      "7 0.5611494220793247\n",
      "8 0.5447267442941666\n",
      "9 0.5322674922645092\n",
      "10 0.5057423077523708\n",
      "11 0.4850657805800438\n",
      "12 0.47001152485609055\n",
      "13 0.4553827792406082\n",
      "14 0.4657156504690647\n",
      "15 0.4524678774178028\n",
      "16 0.4158415086567402\n",
      "17 0.4060962237417698\n",
      "18 0.4001988284289837\n",
      "19 0.3895433768630028\n",
      "20 0.37885936722159386\n",
      "21 0.3743584416806698\n",
      "22 0.37229741364717484\n",
      "23 0.36169227585196495\n",
      "24 0.3536117151379585\n",
      "test error Net 18.20% 182/1000\n",
      "0 0.8958196267485619\n",
      "1 0.7789780274033546\n",
      "2 0.7158502116799355\n",
      "3 0.6618689522147179\n",
      "4 0.6159958019852638\n",
      "5 0.5786285474896431\n",
      "6 0.548097588121891\n",
      "7 0.522891603410244\n",
      "8 0.5020463913679123\n",
      "9 0.4855910949409008\n",
      "10 0.4733068645000458\n",
      "11 0.4641931802034378\n",
      "12 0.45304980129003525\n",
      "13 0.4382743127644062\n",
      "14 0.42798443883657455\n",
      "15 0.41885022446513176\n",
      "16 0.4089873805642128\n",
      "17 0.3986029513180256\n",
      "18 0.38988540694117546\n",
      "19 0.38396598026156425\n",
      "20 0.37717169150710106\n",
      "21 0.3683990426361561\n",
      "22 0.3728923611342907\n",
      "23 0.3810688816010952\n",
      "24 0.35873553715646267\n",
      "test error Net 17.60% 176/1000\n",
      "0 0.8891573846340179\n",
      "1 0.7804559543728828\n",
      "2 0.7135501205921173\n",
      "3 0.6597464233636856\n",
      "4 0.6156108267605305\n",
      "5 0.5796037800610065\n",
      "6 0.5503883697092533\n",
      "7 0.5262712575495243\n",
      "8 0.506445799022913\n",
      "9 0.48969950899481773\n",
      "10 0.4750378765165806\n",
      "11 0.4618063196539879\n",
      "12 0.45010531693696976\n",
      "13 0.4391035810112953\n",
      "14 0.4290090873837471\n",
      "15 0.4193570800125599\n",
      "16 0.41040651500225067\n",
      "17 0.4026406556367874\n",
      "18 0.3947201892733574\n",
      "19 0.3873578608036041\n",
      "20 0.38043540716171265\n",
      "21 0.3738457001745701\n",
      "22 0.36825311183929443\n",
      "23 0.36329175904393196\n",
      "24 0.3575976863503456\n",
      "test error Net 17.90% 179/1000\n",
      "0 0.9027692228555679\n",
      "1 0.8312056586146355\n",
      "2 0.7899635657668114\n",
      "3 0.7489480003714561\n",
      "4 0.707827627658844\n",
      "5 0.6682810708880424\n",
      "6 0.6320619806647301\n",
      "7 0.5992774218320847\n",
      "8 0.5705419257283211\n",
      "9 0.5458279959857464\n",
      "10 0.5247328542172909\n",
      "11 0.5067108161747456\n",
      "12 0.4911053963005543\n",
      "13 0.47739795595407486\n",
      "14 0.46505100280046463\n",
      "15 0.45422009378671646\n",
      "16 0.4447423703968525\n",
      "17 0.4365931414067745\n",
      "18 0.4296388737857342\n",
      "19 0.42330866679549217\n",
      "20 0.41687728092074394\n",
      "21 0.40989819169044495\n",
      "22 0.4025804437696934\n",
      "23 0.395866759121418\n",
      "24 0.3894432932138443\n",
      "test error Net 17.30% 173/1000\n",
      "0 0.8932151272892952\n",
      "1 0.8136582970619202\n",
      "2 0.7627744004130363\n",
      "3 0.7159464731812477\n",
      "4 0.6717186123132706\n",
      "5 0.6329340673983097\n",
      "6 0.5995756834745407\n",
      "7 0.5714148096740246\n",
      "8 0.548769872635603\n",
      "9 0.5314778536558151\n",
      "10 0.5173611603677273\n",
      "11 0.5011609569191933\n",
      "12 0.48464375361800194\n",
      "13 0.46982405334711075\n",
      "14 0.45640212669968605\n",
      "15 0.45027516037225723\n",
      "16 0.4574379175901413\n",
      "17 0.4305637665092945\n",
      "18 0.4147707298398018\n",
      "19 0.40588682517409325\n",
      "20 0.3986715227365494\n",
      "21 0.39678122103214264\n",
      "22 0.40610695630311966\n",
      "23 0.3825394921004772\n",
      "24 0.3696017190814018\n",
      "test error Net 17.90% 179/1000\n",
      "0 0.9349560961127281\n",
      "1 0.8477094024419785\n",
      "2 0.8152049407362938\n",
      "3 0.782930001616478\n",
      "4 0.749194510281086\n",
      "5 0.7139952629804611\n",
      "6 0.6787040382623672\n",
      "7 0.6452071703970432\n",
      "8 0.6140873469412327\n",
      "9 0.5868253782391548\n",
      "10 0.5637395344674587\n",
      "11 0.544202659279108\n",
      "12 0.5276232808828354\n",
      "13 0.5132814608514309\n",
      "14 0.5011152550578117\n",
      "15 0.4902428649365902\n",
      "16 0.47946568578481674\n",
      "17 0.4687928333878517\n",
      "18 0.4583795517683029\n",
      "19 0.44774285703897476\n",
      "20 0.4379432164132595\n",
      "21 0.42805955186486244\n",
      "22 0.4190135523676872\n",
      "23 0.41092449426651\n",
      "24 0.4032099209725857\n",
      "test error Net 16.30% 163/1000\n"
     ]
    }
   ],
   "source": [
    "from torch.nn import functional as F\n",
    "\n",
    "mini_batch_size = 100\n",
    "\n",
    "for k in range(10):\n",
    "    model = Net(100)\n",
    "    train_model(model, train_input1_reshape, train_classes1, mini_batch_size)\n",
    "    nb_test_errors = compute_nb_errors(model, test_input1_reshape, test_classes1)\n",
    "    print('test error Net {:0.2f}% {:d}/{:d}'.format((100 * nb_test_errors) / test_input.size(0),\n",
    "                                                      nb_test_errors, test_input.size(0)))"
   ]
  }
 ],
 "metadata": {
  "kernelspec": {
   "display_name": "Python 3",
   "language": "python",
   "name": "python3"
  },
  "language_info": {
   "codemirror_mode": {
    "name": "ipython",
    "version": 3
   },
   "file_extension": ".py",
   "mimetype": "text/x-python",
   "name": "python",
   "nbconvert_exporter": "python",
   "pygments_lexer": "ipython3",
   "version": "3.6.8"
  },
  "toc": {
   "base_numbering": 1,
   "nav_menu": {},
   "number_sections": false,
   "sideBar": true,
   "skip_h1_title": false,
   "title_cell": "Table of Contents",
   "title_sidebar": "Contents",
   "toc_cell": false,
   "toc_position": {},
   "toc_section_display": true,
   "toc_window_display": false
  },
  "varInspector": {
   "cols": {
    "lenName": 16,
    "lenType": 16,
    "lenVar": 40
   },
   "kernels_config": {
    "python": {
     "delete_cmd_postfix": "",
     "delete_cmd_prefix": "del ",
     "library": "var_list.py",
     "varRefreshCmd": "print(var_dic_list())"
    },
    "r": {
     "delete_cmd_postfix": ") ",
     "delete_cmd_prefix": "rm(",
     "library": "var_list.r",
     "varRefreshCmd": "cat(var_dic_list()) "
    }
   },
   "position": {
    "height": "268px",
    "left": "944px",
    "right": "20px",
    "top": "120px",
    "width": "316px"
   },
   "types_to_exclude": [
    "module",
    "function",
    "builtin_function_or_method",
    "instance",
    "_Feature"
   ],
   "window_display": false
  }
 },
 "nbformat": 4,
 "nbformat_minor": 2
}
