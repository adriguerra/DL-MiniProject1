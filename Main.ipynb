{
 "cells": [
  {
   "cell_type": "markdown",
   "metadata": {},
   "source": [
    "# Mini-Project 1"
   ]
  },
  {
   "cell_type": "markdown",
   "metadata": {},
   "source": [
    "Recap. session 03.04.2019: Discussion with teaching assistant. \n",
    "\n",
    "Do 3 different architectures:\n",
    "1. Fully-Connected Networks (Deep & Shallow)\n",
    "2. Convolution Neural Network \n",
    "3. Residual Neural Network\n",
    "\n",
    "For each architecture: \n",
    "- output 0 or 1 (directly predict if number is smaller or not)\n",
    "- output class (give digit of each image and do comparison)\n",
    "- output 0 or 1 + class of digit (enables 3 different loss functions)\n",
    "\n",
    "Note:\n",
    "<br> - Do weight sharing: each image enters a different building block "
   ]
  },
  {
   "cell_type": "code",
   "execution_count": 1,
   "metadata": {},
   "outputs": [],
   "source": [
    "from helper_functions import *\n",
    "from torch import nn\n",
    "from torch.autograd import Variable"
   ]
  },
  {
   "cell_type": "markdown",
   "metadata": {},
   "source": [
    "## Load datasets"
   ]
  },
  {
   "cell_type": "code",
   "execution_count": 2,
   "metadata": {},
   "outputs": [],
   "source": [
    "N = 1000\n",
    "train_input, train_target, train_classes, test_input, test_target, test_classes = generate_pair_sets(N)"
   ]
  },
  {
   "cell_type": "markdown",
   "metadata": {},
   "source": [
    "Name | Tensor dimension | Type | Content\n",
    "-----|-----|-----|-----\n",
    "`train_input` | N × 2 × 14 × 14 | float32 | Images\n",
    "`train_target` | N | int64 | Class to predict ∈ {0, 1}\n",
    "`train_classes` | N × 2 | int64 | Classes of the two digits ∈ {0, . . . , 9}\n",
    "`test_input` | N × 2 × 14 × 14 | float32 | Images\n",
    "`test_target` | N | int64 | Class | to predict ∈ {0, 1}\n",
    "`test_classes` | N × 2 | int64 | Classes of the two digits ∈ {0, . . . , 9}"
   ]
  },
  {
   "cell_type": "markdown",
   "metadata": {},
   "source": [
    "# Fully-Connected Networks"
   ]
  },
  {
   "cell_type": "markdown",
   "metadata": {},
   "source": [
    "## 1. Output 0 or 1"
   ]
  },
  {
   "cell_type": "markdown",
   "metadata": {},
   "source": [
    "### Preprocess Data"
   ]
  },
  {
   "cell_type": "code",
   "execution_count": 3,
   "metadata": {},
   "outputs": [],
   "source": [
    "train_input, test_input = reshape_data(train_input, test_input)"
   ]
  },
  {
   "cell_type": "markdown",
   "metadata": {},
   "source": [
    "### Define Models"
   ]
  },
  {
   "cell_type": "code",
   "execution_count": 4,
   "metadata": {},
   "outputs": [],
   "source": [
    "def create_shallow_model():\n",
    "    return nn.Sequential(\n",
    "        nn.Linear(196, 50),\n",
    "        nn.BatchNorm1d(50),\n",
    "        nn.ReLU(),\n",
    "        nn.Linear(50, 1))"
   ]
  },
  {
   "cell_type": "code",
   "execution_count": 5,
   "metadata": {},
   "outputs": [],
   "source": [
    "def create_deep_model():\n",
    "    return nn.Sequential(\n",
    "        nn.Linear(196, 4),\n",
    "        nn.BatchNorm1d(4),\n",
    "        nn.ReLU(),\n",
    "        nn.Linear(4, 8),\n",
    "        nn.BatchNorm1d(8),\n",
    "        nn.ReLU(),\n",
    "        nn.Linear(8, 16),\n",
    "        nn.BatchNorm1d(16),\n",
    "        nn.ReLU(),\n",
    "        nn.Linear(16, 32),\n",
    "        nn.BatchNorm1d(32),\n",
    "        nn.ReLU(),\n",
    "        nn.Linear(32, 64),\n",
    "        nn.BatchNorm1d(64),\n",
    "        nn.ReLU(),\n",
    "        nn.Linear(64, 128),\n",
    "        nn.BatchNorm1d(128),\n",
    "        nn.ReLU(),\n",
    "        nn.Linear(128, 1))"
   ]
  },
  {
   "cell_type": "code",
   "execution_count": 6,
   "metadata": {},
   "outputs": [],
   "source": [
    "models = [create_shallow_model, create_deep_model]"
   ]
  },
  {
   "cell_type": "markdown",
   "metadata": {},
   "source": [
    "### Test Models"
   ]
  },
  {
   "cell_type": "code",
   "execution_count": 7,
   "metadata": {
    "scrolled": true
   },
   "outputs": [],
   "source": [
    "# stds = [-1, 1e-3, 1e-2, 1e-1, 1e-0, 1e1]\n",
    "# for model in models:\n",
    "#     compute_errors(m=model, \n",
    "#                    train_input=train_input, \n",
    "#                    train_classes=, \n",
    "#                    test_input=test_input,\n",
    "#                    test_classes=,\n",
    "#                    stds=stds)"
   ]
  },
  {
   "cell_type": "markdown",
   "metadata": {},
   "source": [
    "## 2. Output Classes"
   ]
  },
  {
   "cell_type": "markdown",
   "metadata": {},
   "source": [
    "### Preprocess Data"
   ]
  },
  {
   "cell_type": "code",
   "execution_count": 8,
   "metadata": {},
   "outputs": [],
   "source": [
    "train_input, test_input = reshape_data(train_input, test_input)\n",
    "train_input, test_input, train_classes, test_classes = split_img_data(train_input, test_input, train_classes, test_classes)\n",
    "\n",
    "train_input1 = train_input[0]\n",
    "train_input2 = train_input[1]\n",
    "\n",
    "test_input1 = test_input[0]\n",
    "test_input2 = test_input[1]\n",
    "\n",
    "train_classes1 = train_classes[0]\n",
    "train_classes2 = train_classes[1]\n",
    "\n",
    "test_classes1 = test_classes[0]\n",
    "test_classes2 = test_classes[1]\n",
    "\n",
    "test_input1 = 0.9*test_input1\n",
    "test_input2 = 0.9*test_input2\n",
    "\n",
    "train_input1 = 0.9*train_input1\n",
    "train_input2 = 0.9*train_input2\n",
    "\n",
    "test_input1 = 0.9*test_input1\n",
    "test_input2 = 0.9*test_input2\n",
    "\n",
    "train_classes1 = convert_to_one_hot_labels(train_input1, train_classes1)\n",
    "train_classes2 = convert_to_one_hot_labels(train_input2, train_classes2)\n",
    "\n",
    "test_classes1 = convert_to_one_hot_labels(test_input1, test_classes1)\n",
    "test_classes2 = convert_to_one_hot_labels(test_input2, test_classes2)\n",
    "\n",
    "train_input1, test_classes1 = normalize(train_input1, test_classes1)\n",
    "train_input2, test_classes2 = normalize(train_input2, test_classes2)"
   ]
  },
  {
   "cell_type": "code",
   "execution_count": 9,
   "metadata": {},
   "outputs": [],
   "source": [
    "train_input1, train_classes1 = Variable(train_input1), Variable(train_classes1)\n",
    "test_input1, test_classes1 = Variable(test_input1), Variable(test_classes1)"
   ]
  },
  {
   "cell_type": "markdown",
   "metadata": {},
   "source": [
    "### Define Models"
   ]
  },
  {
   "cell_type": "code",
   "execution_count": 10,
   "metadata": {},
   "outputs": [],
   "source": [
    "def create_shallow_model():\n",
    "    return nn.Sequential(\n",
    "        nn.Linear(196, 50),\n",
    "        nn.BatchNorm1d(50),\n",
    "        nn.ReLU(),\n",
    "        nn.Linear(50, 10))"
   ]
  },
  {
   "cell_type": "code",
   "execution_count": 11,
   "metadata": {},
   "outputs": [],
   "source": [
    "def create_deep_model():\n",
    "    return nn.Sequential(\n",
    "        nn.Linear(196, 4),\n",
    "        nn.BatchNorm1d(4),\n",
    "        nn.ReLU(),\n",
    "        nn.Linear(4, 8),\n",
    "        nn.BatchNorm1d(8),\n",
    "        nn.ReLU(),\n",
    "        nn.Linear(8, 16),\n",
    "        nn.BatchNorm1d(16),\n",
    "        nn.ReLU(),\n",
    "        nn.Linear(16, 32),\n",
    "        nn.BatchNorm1d(32),\n",
    "        nn.ReLU(),\n",
    "        nn.Linear(32, 64),\n",
    "        nn.BatchNorm1d(64),\n",
    "        nn.ReLU(),\n",
    "        nn.Linear(64, 128),\n",
    "        nn.BatchNorm1d(128),\n",
    "        nn.ReLU(),\n",
    "        nn.Linear(128, 10))"
   ]
  },
  {
   "cell_type": "code",
   "execution_count": 12,
   "metadata": {},
   "outputs": [],
   "source": [
    "models = [create_shallow_model, create_deep_model]"
   ]
  },
  {
   "cell_type": "markdown",
   "metadata": {},
   "source": [
    "### Test Models"
   ]
  },
  {
   "cell_type": "code",
   "execution_count": 13,
   "metadata": {
    "scrolled": true
   },
   "outputs": [
    {
     "name": "stdout",
     "output_type": "stream",
     "text": [
      "std -1.000000 create_shallow_model train_error 0.00% test_error 14.10%\n",
      "std 0.001000 create_shallow_model train_error 0.00% test_error 18.20%\n",
      "std 0.010000 create_shallow_model train_error 0.00% test_error 16.40%\n",
      "std 0.100000 create_shallow_model train_error 0.00% test_error 14.50%\n",
      "std 1.000000 create_shallow_model train_error 4.40% test_error 20.80%\n",
      "std 10.000000 create_shallow_model train_error 44.10% test_error 49.20%\n",
      "std -1.000000 create_deep_model train_error 0.00% test_error 25.40%\n",
      "std 0.001000 create_deep_model train_error 87.00% test_error 88.60%\n",
      "std 0.010000 create_deep_model train_error 87.00% test_error 88.60%\n",
      "std 0.100000 create_deep_model train_error 4.10% test_error 34.80%\n",
      "std 1.000000 create_deep_model train_error 47.90% test_error 69.70%\n",
      "std 10.000000 create_deep_model train_error 66.40% test_error 77.10%\n"
     ]
    }
   ],
   "source": [
    "stds = [-1, 1e-3, 1e-2, 1e-1, 1e-0, 1e1]\n",
    "for model in models:\n",
    "    compute_errors(m=model, \n",
    "                   train_input=train_input1, \n",
    "                   train_classes=train_classes1, \n",
    "                   test_input=test_input1,\n",
    "                   test_classes=test_classes1,\n",
    "                   stds=stds,\n",
    "                   one_hot_encoded=True)"
   ]
  },
  {
   "cell_type": "code",
   "execution_count": 14,
   "metadata": {},
   "outputs": [
    {
     "name": "stdout",
     "output_type": "stream",
     "text": [
      "Computed standard deviation according to 'Xavier initialization': 0.183\n",
      "std 0.182574 create_shallow_model train_error 0.00% test_error 14.80%\n",
      "Computed standard deviation according to 'Xavier initialization': 0.120\n",
      "std 0.120386 create_deep_model train_error 26.70% test_error 47.40%\n"
     ]
    }
   ],
   "source": [
    "# Xavier initialization\n",
    "for model in models:\n",
    "    compute_errors(m=model, \n",
    "                   train_input=train_input1, \n",
    "                   train_classes=train_classes1, \n",
    "                   test_input=test_input1,\n",
    "                   test_classes=test_classes1,\n",
    "                   stds=None,\n",
    "                   one_hot_encoded=True)"
   ]
  },
  {
   "cell_type": "markdown",
   "metadata": {},
   "source": [
    "# Architecture: CNN "
   ]
  },
  {
   "cell_type": "code",
   "execution_count": null,
   "metadata": {},
   "outputs": [],
   "source": []
  }
 ],
 "metadata": {
  "kernelspec": {
   "display_name": "Python 3",
   "language": "python",
   "name": "python3"
  },
  "language_info": {
   "codemirror_mode": {
    "name": "ipython",
    "version": 3
   },
   "file_extension": ".py",
   "mimetype": "text/x-python",
   "name": "python",
   "nbconvert_exporter": "python",
   "pygments_lexer": "ipython3",
   "version": "3.6.8"
  },
  "toc": {
   "base_numbering": 1,
   "nav_menu": {},
   "number_sections": false,
   "sideBar": true,
   "skip_h1_title": false,
   "title_cell": "Table of Contents",
   "title_sidebar": "Contents",
   "toc_cell": false,
   "toc_position": {},
   "toc_section_display": true,
   "toc_window_display": false
  },
  "varInspector": {
   "cols": {
    "lenName": 16,
    "lenType": 16,
    "lenVar": 40
   },
   "kernels_config": {
    "python": {
     "delete_cmd_postfix": "",
     "delete_cmd_prefix": "del ",
     "library": "var_list.py",
     "varRefreshCmd": "print(var_dic_list())"
    },
    "r": {
     "delete_cmd_postfix": ") ",
     "delete_cmd_prefix": "rm(",
     "library": "var_list.r",
     "varRefreshCmd": "cat(var_dic_list()) "
    }
   },
   "position": {
    "height": "268px",
    "left": "944px",
    "right": "20px",
    "top": "120px",
    "width": "316px"
   },
   "types_to_exclude": [
    "module",
    "function",
    "builtin_function_or_method",
    "instance",
    "_Feature"
   ],
   "window_display": false
  }
 },
 "nbformat": 4,
 "nbformat_minor": 2
}
