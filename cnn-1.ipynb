{
 "cells": [
  {
   "cell_type": "code",
   "execution_count": 2,
   "metadata": {},
   "outputs": [],
   "source": [
    "from helper_functions import *\n",
    "from torch import nn\n",
    "from torch.autograd import Variable\n",
    "import torch.nn.functional as F"
   ]
  },
  {
   "cell_type": "code",
   "execution_count": 3,
   "metadata": {},
   "outputs": [],
   "source": [
    "N = 1000\n",
    "train_input, train_target, train_classes, test_input, test_target, test_classes = generate_pair_sets(N)"
   ]
  },
  {
   "cell_type": "markdown",
   "metadata": {},
   "source": [
    "#### Data preprocessing"
   ]
  },
  {
   "cell_type": "code",
   "execution_count": 4,
   "metadata": {},
   "outputs": [],
   "source": [
    "train_input, test_input, train_classes, test_classes = split_img_data(train_input, test_input, train_classes, test_classes)\n",
    "\n",
    "train_input1 = train_input[0]\n",
    "train_input2 = train_input[1]\n",
    "\n",
    "test_input1 = test_input[0]\n",
    "test_input2 = test_input[1]\n",
    "\n",
    "train_classes1 = train_classes[0]\n",
    "train_classes2 = train_classes[1]\n",
    "\n",
    "test_classes1 = test_classes[0]\n",
    "test_classes2 = test_classes[1]\n",
    "\n",
    "train_input1 = 0.9*train_input1\n",
    "train_input2 = 0.9*train_input2\n",
    "\n",
    "test_input1 = 0.9*test_input1\n",
    "test_input2 = 0.9*test_input2\n",
    "\n",
    "train_input1, test_input1 = normalize(train_input1, test_input1)\n",
    "train_input2, test_input2 = normalize(train_input2, test_input2)\n",
    "\n",
    "train_input1_reshape = torch.unsqueeze(train_input1, 1)\n",
    "test_input1_reshape = torch.unsqueeze(test_input1, 1)\n",
    "\n",
    "train_input2_reshape = torch.unsqueeze(train_input2, 1)\n",
    "test_input2_reshape = torch.unsqueeze(test_input2, 1)"
   ]
  },
  {
   "cell_type": "markdown",
   "metadata": {},
   "source": [
    "### Convolutional Neuronal Network"
   ]
  },
  {
   "cell_type": "markdown",
   "metadata": {},
   "source": [
    "#### Predict digit classes ∈ {0, . . . , 9} and compare¶"
   ]
  },
  {
   "cell_type": "markdown",
   "metadata": {},
   "source": [
    "#### Define model"
   ]
  },
  {
   "cell_type": "code",
   "execution_count": 5,
   "metadata": {},
   "outputs": [],
   "source": [
    "class Net2(nn.Module):\n",
    "    def __init__(self):\n",
    "        super(Net2, self).__init__()\n",
    "        nb_hidden = 200\n",
    "        self.conv1 = nn.Conv2d(1, 32, kernel_size=3)\n",
    "        self.conv1_bn = nn.BatchNorm2d(32)\n",
    "        self.conv2 = nn.Conv2d(32, 32, kernel_size=2)\n",
    "        self.conv2_bn = nn.BatchNorm2d(32)\n",
    "        self.conv3 = nn.Conv2d(32, 64, kernel_size=2)\n",
    "        self.conv3_bn = nn.BatchNorm2d(64)\n",
    "        self.drop1 = nn.Dropout(p=0.5)\n",
    "        self.fc1 = nn.Linear(64, nb_hidden)\n",
    "        self.drop2 = nn.Dropout(p=0.5)\n",
    "        self.fc2 = nn.Linear(nb_hidden, 10)\n",
    "        \n",
    "\n",
    "    def forward(self, x):\n",
    "        x = F.relu(F.max_pool2d(self.conv1_bn(self.conv1(x)),kernel_size=2))\n",
    "        x = F.relu(F.max_pool2d(self.conv2_bn(self.conv2(x)),kernel_size=2))\n",
    "        x = F.relu(self.conv3_bn(self.conv3(x)))\n",
    "        x = self.drop1(x)\n",
    "        x = F.relu(self.fc1(x.view(-1, 64)))\n",
    "        x = self.drop2(x)\n",
    "        x = self.fc2(x)\n",
    "        return x\n",
    "    \n",
    "\n",
    "def train_model(model, train_input, train_target, mini_batch_size):\n",
    "    eta = 1e-1\n",
    "    criterion = nn.CrossEntropyLoss()\n",
    "    optimizer = torch.optim.SGD(model.parameters(), lr=eta)\n",
    "\n",
    "    for e in range(25):\n",
    "        sum_loss = 0\n",
    "        for b in range(0, train_input.size(0), mini_batch_size):\n",
    "            output = model(train_input.narrow(0, b, mini_batch_size))\n",
    "            loss = criterion(output, train_target.narrow(0, b, mini_batch_size))\n",
    "            model.zero_grad()\n",
    "            loss.backward()\n",
    "            sum_loss = sum_loss + loss.item()\n",
    "            optimizer.step()\n",
    "        #print(e, sum_loss)\n",
    "        \n",
    "\n",
    "def compare_and_predict(output1, output2):\n",
    "    predict = []\n",
    "    \n",
    "    for (a,b) in zip(output1, output2):\n",
    "        if a <= b:\n",
    "            predict.append(1)\n",
    "        else:\n",
    "            predict.append(0)\n",
    "    return predict\n",
    "       \n",
    "    \n",
    "def compute_error_(predicted, test):\n",
    "    error = 0\n",
    "    \n",
    "    for (a,b) in zip(predicted, test):\n",
    "        if a != b:\n",
    "            error+=1\n",
    "    return 100*(error/len(predicted))"
   ]
  },
  {
   "cell_type": "markdown",
   "metadata": {},
   "source": [
    "#### Train and test model"
   ]
  },
  {
   "cell_type": "code",
   "execution_count": 6,
   "metadata": {},
   "outputs": [
    {
     "name": "stdout",
     "output_type": "stream",
     "text": [
      "(It. # 0) Final digit comparison error on test set: 10.20%\n",
      "(It. # 1) Final digit comparison error on test set: 6.70%\n",
      "(It. # 2) Final digit comparison error on test set: 6.90%\n",
      "(It. # 3) Final digit comparison error on test set: 6.70%\n",
      "(It. # 4) Final digit comparison error on test set: 5.90%\n",
      "(It. # 5) Final digit comparison error on test set: 5.60%\n",
      "(It. # 6) Final digit comparison error on test set: 5.60%\n",
      "(It. # 7) Final digit comparison error on test set: 5.80%\n",
      "(It. # 8) Final digit comparison error on test set: 5.40%\n",
      "(It. # 9) Final digit comparison error on test set: 5.30%\n",
      "(It. # 10) Final digit comparison error on test set: 5.50%\n",
      "(It. # 11) Final digit comparison error on test set: 5.40%\n",
      "(It. # 12) Final digit comparison error on test set: 5.70%\n",
      "(It. # 13) Final digit comparison error on test set: 5.80%\n",
      "(It. # 14) Final digit comparison error on test set: 5.50%\n"
     ]
    }
   ],
   "source": [
    "mini_batch_size = 100\n",
    "model = Net2()\n",
    "\n",
    "for k in range(15):\n",
    "    train_model(model.train(), train_input1_reshape, train_classes1, mini_batch_size)\n",
    "    \n",
    "    _, output1 = model(test_input1_reshape).max(1)\n",
    "    _, output2 = model(test_input2_reshape).max(1)\n",
    "    print('(It. # {}) Final digit comparison error on test set: {:.2f}%'.format(k, \n",
    "                                                        compute_error_(compare_and_predict(output1, output2), test_target)))"
   ]
  }
 ],
 "metadata": {
  "kernelspec": {
   "display_name": "Python 3",
   "language": "python",
   "name": "python3"
  },
  "language_info": {
   "codemirror_mode": {
    "name": "ipython",
    "version": 3
   },
   "file_extension": ".py",
   "mimetype": "text/x-python",
   "name": "python",
   "nbconvert_exporter": "python",
   "pygments_lexer": "ipython3",
   "version": "3.6.5"
  }
 },
 "nbformat": 4,
 "nbformat_minor": 2
}
