{
 "cells": [
  {
   "cell_type": "markdown",
   "metadata": {},
   "source": [
    "# CNN Siamese network"
   ]
  },
  {
   "cell_type": "code",
   "execution_count": 9,
   "metadata": {},
   "outputs": [],
   "source": [
    "# Important imports\n",
    "from helper_functions import *\n",
    "from torch import nn\n",
    "from torch.autograd import Variable\n",
    "from torch.nn import functional as F"
   ]
  },
  {
   "cell_type": "code",
   "execution_count": 10,
   "metadata": {},
   "outputs": [],
   "source": [
    "N = 1000\n",
    "train_input, train_target, train_classes, test_input, test_target, test_classes = generate_pair_sets(N)"
   ]
  },
  {
   "cell_type": "markdown",
   "metadata": {},
   "source": [
    "## Preprocessing data "
   ]
  },
  {
   "cell_type": "markdown",
   "metadata": {},
   "source": [
    "We split the input images into two different images with which we are going to feed our siamese Network."
   ]
  },
  {
   "cell_type": "code",
   "execution_count": 11,
   "metadata": {},
   "outputs": [],
   "source": [
    "train_input1, train_input2, test_input1, test_input2, train_classes1,\\\n",
    "train_classes2, test_classes1, test_classes2 = split_img_data(train_input, test_input,\\\n",
    "                                                              train_classes, test_classes)"
   ]
  },
  {
   "cell_type": "markdown",
   "metadata": {},
   "source": [
    "We do some preprocessing :\n",
    "\n",
    "- We multiply our inputs by 0.9 in order to prevent from the vanishing gradients with tanh.\n",
    "- We convert the classes in to one hot encoded labels for the training\n",
    "- we normalize our input data"
   ]
  },
  {
   "cell_type": "code",
   "execution_count": 12,
   "metadata": {},
   "outputs": [],
   "source": [
    "train_input1 = 0.9*train_input1\n",
    "train_input2 = 0.9*train_input2\n",
    "\n",
    "test_input1 = 0.9*test_input1\n",
    "test_input2 = 0.9*test_input2\n",
    "\n",
    "#train_classes1 = convert_to_one_hot_labels(train_input1, train_classes1)\n",
    "#train_classes2 = convert_to_one_hot_labels(train_input2, train_classes2)\n",
    "\n",
    "#test_classes1 = convert_to_one_hot_labels(test_input1, test_classes1)\n",
    "#test_classes2 = convert_to_one_hot_labels(test_input2, test_classes2)\n",
    "\n",
    "train_input1, test_input1 = normalize(train_input1, test_input1)\n",
    "train_input2, test_input2 = normalize(train_input2, test_input2)"
   ]
  },
  {
   "cell_type": "markdown",
   "metadata": {},
   "source": [
    "We reshape the data by adding the channel dimension in order to feed the convolutionnal layers"
   ]
  },
  {
   "cell_type": "code",
   "execution_count": 13,
   "metadata": {},
   "outputs": [
    {
     "name": "stdout",
     "output_type": "stream",
     "text": [
      "Dimension of train_input1: torch.Size([1000, 1, 1, 14, 14])\n",
      "Dimension of test_input1: torch.Size([1000, 1, 1, 14, 14])\n",
      "Dimension of train_input2: torch.Size([1000, 1, 1, 14, 14])\n",
      "Dimension of test_input2: torch.Size([1000, 1, 1, 14, 14])\n"
     ]
    }
   ],
   "source": [
    "train_input1 = torch.unsqueeze(train_input1, 1)\n",
    "print(\"Dimension of train_input1: {}\".format(torch.unsqueeze(train_input1, 1).shape))\n",
    "\n",
    "test_input1 = torch.unsqueeze(test_input1, 1)\n",
    "print(\"Dimension of test_input1: {}\".format(torch.unsqueeze(test_input1, 1).shape))\n",
    "\n",
    "train_input2 = torch.unsqueeze(train_input2, 1)\n",
    "print(\"Dimension of train_input2: {}\".format(torch.unsqueeze(train_input2, 1).shape))\n",
    "\n",
    "test_input2 = torch.unsqueeze(test_input2, 1)\n",
    "print(\"Dimension of test_input2: {}\".format(torch.unsqueeze(test_input2, 1).shape))"
   ]
  },
  {
   "cell_type": "markdown",
   "metadata": {},
   "source": [
    "## Building Siamese model"
   ]
  },
  {
   "cell_type": "markdown",
   "metadata": {},
   "source": [
    "We build the model and some functions that will help us train it and compute its errors."
   ]
  },
  {
   "cell_type": "code",
   "execution_count": 14,
   "metadata": {},
   "outputs": [],
   "source": [
    "class Net2(nn.Module):\n",
    "    def __init__(self):\n",
    "        super(Net2, self).__init__()\n",
    "        nb_hidden = 100\n",
    "        self.conv1 = nn.Conv2d(1, 32, kernel_size=3)\n",
    "        self.conv1_bn = nn.BatchNorm2d(32)\n",
    "        \n",
    "        self.conv2 = nn.Conv2d(32, 32, kernel_size=2)\n",
    "        self.conv2_bn = nn.BatchNorm2d(32)\n",
    "        \n",
    "        self.conv3 = nn.Conv2d(32, 64, kernel_size=2)\n",
    "        self.conv3_bn = nn.BatchNorm2d(64)\n",
    "        \n",
    "        self.drop1 = nn.Dropout(p=0.5)\n",
    "        self.fc1 = nn.Linear(64, nb_hidden)\n",
    "        self.drop2 = nn.Dropout(p=0.5)\n",
    "        self.fc2 = nn.Linear(nb_hidden, 10)\n",
    "        self.drop3 = nn.Dropout(p=0.5)\n",
    "        self.fc3 = nn.Linear(nb_hidden*2, 2)\n",
    "        self.fc4 = nn.Sigmoid()\n",
    "\n",
    "    def forward(self, x, y):\n",
    "        x = F.relu(F.max_pool2d(self.conv1_bn(self.conv1(x)), kernel_size=2))\n",
    "        y = F.relu(F.max_pool2d(self.conv1_bn(self.conv1(y)), kernel_size=2))\n",
    "        \n",
    "        x = F.relu(F.max_pool2d(self.conv2_bn(self.conv2(x)), kernel_size=2))\n",
    "        y = F.relu(F.max_pool2d(self.conv2_bn(self.conv2(y)), kernel_size=2))\n",
    "        \n",
    "        x = F.relu(self.conv3_bn(self.conv3(x)))\n",
    "        y = F.relu(self.conv3_bn(self.conv3(y)))\n",
    "        \n",
    "        x = self.drop1(x)\n",
    "        y = self.drop1(y)\n",
    "        \n",
    "        x = F.relu(self.fc1(x.view(-1, 64)))\n",
    "        y = F.relu(self.fc1(y.view(-1, 64)))\n",
    "        \n",
    "        x = self.drop2(x)\n",
    "        y = self.drop2(y)\n",
    "        \n",
    "        \n",
    "        binary_target = torch.cat([x, y], 1)\n",
    "\n",
    "\n",
    "        x = self.fc2(x)\n",
    "        y = self.fc2(y)\n",
    "        x = self.fc4(x)\n",
    "        y = self.fc4(y)\n",
    "        binary_target = self.drop3(binary_target)\n",
    "        binary_target = self.fc3(binary_target)\n",
    "        binary_target = self.fc4(binary_target)\n",
    "        return x, y, binary_target\n",
    "    \n",
    "\n",
    "def train_model(model, train_input1, train_input2, train_target1, train_target2, train_target3, mini_batch_size, digit_scalar, binary_target_scalar):\n",
    "    criterion = nn.CrossEntropyLoss() # Crossentropy MSELoss \n",
    "    eta = 1e-1\n",
    "    optimizer = torch.optim.SGD(model.parameters(), lr=eta, momentum=0) # check the lectures\n",
    "\n",
    "    for e in range(25):\n",
    "        sum_loss = 0\n",
    "        for b in range(0, train_input.size(0), mini_batch_size):\n",
    "            output_x, output_y, output_binary_target = model(train_input1.narrow(0, b, mini_batch_size),\\\n",
    "                                                             train_input2.narrow(0, b, mini_batch_size))\n",
    "            \n",
    "            loss_x = criterion(output_x, train_target1.narrow(0, b, mini_batch_size).long())\n",
    "            loss_y = criterion(output_y, train_target2.narrow(0, b, mini_batch_size).long())\n",
    "            loss_binary_target = criterion(output_binary_target, train_target3.narrow(0, b, mini_batch_size).long())\n",
    "            loss = digit_scalar*(loss_x + loss_y) + binary_target_scalar*loss_binary_target\n",
    "            model.zero_grad()\n",
    "            loss.backward()\n",
    "            sum_loss = sum_loss + loss.item()\n",
    "            optimizer.step()\n",
    "\n",
    "\n",
    "        \n",
    "def compute_nb_errors(prediction, target):\n",
    "    errors = 0\n",
    "    for (a,b) in zip(prediction, target):\n",
    "        if a.float() != b.float():\n",
    "            errors+=1\n",
    "    return errors/len(prediction)*100\n",
    "            "
   ]
  },
  {
   "cell_type": "markdown",
   "metadata": {},
   "source": [
    "## Training of the model"
   ]
  },
  {
   "cell_type": "code",
   "execution_count": null,
   "metadata": {},
   "outputs": [
    {
     "name": "stdout",
     "output_type": "stream",
     "text": [
      "14.499999999999998\n",
      "18.7\n",
      "17.0\n",
      "15.1\n",
      "19.2\n",
      "28.1\n",
      "19.5\n"
     ]
    }
   ],
   "source": [
    "list_weights = [0.1, 0.01, 0.5, 1]\n",
    "dicto = {}\n",
    "for a in list_weights:\n",
    "    for b in list_weights:\n",
    "        model = Net2()\n",
    "        for k in range(15):\n",
    "            train_model(model, train_input1, train_input2, train_classes1, train_classes2, train_target, mini_batch_size, a, b)\n",
    "            model.eval()\n",
    "            _, _, prediction = model(test_input1, test_input2)\n",
    "            #print(compute_nb_errors(prediction.max(1)[1], test_target.float()))\n",
    "            if k==9:\n",
    "                print(compute_nb_errors(prediction.max(1)[1], test_target.float()))\n",
    "                dicto[('digit_scalar: '+str(a), 'target_scalar: '+str(b))] = compute_nb_errors(prediction.max(1)[1], test_target.float())\n",
    "            \n",
    "            \n",
    "            \n",
    "            \n",
    "    \n",
    "    "
   ]
  },
  {
   "cell_type": "code",
   "execution_count": null,
   "metadata": {},
   "outputs": [],
   "source": [
    "dicto"
   ]
  },
  {
   "cell_type": "markdown",
   "metadata": {},
   "source": [
    "{('digit_scalar: 0.1', 'target_scalar: 0.1'): 21.0,\n",
    " ('digit_scalar: 0.1', 'target_scalar: 0.01'): 19.3,\n",
    " ('digit_scalar: 0.1', 'target_scalar: 0.5'): 17.7,\n",
    " ('digit_scalar: 0.1', 'target_scalar: 1'): 17.2,\n",
    " ('digit_scalar: 0.1', 'target_scalar: 2'): 16.7,\n",
    " ('digit_scalar: 0.1', 'target_scalar: 3'): 16.900000000000002,\n",
    " ('digit_scalar: 0.01', 'target_scalar: 0.1'): 15.4,\n",
    " ('digit_scalar: 0.01', 'target_scalar: 0.01'): 15.1,\n",
    " ('digit_scalar: 0.01', 'target_scalar: 0.5'): 17.5,\n",
    " ('digit_scalar: 0.01', 'target_scalar: 1'): 17.0,\n",
    " ('digit_scalar: 0.01', 'target_scalar: 2'): 18.4,\n",
    " ('digit_scalar: 0.01', 'target_scalar: 3'): 16.900000000000002,\n",
    " ('digit_scalar: 0.5', 'target_scalar: 0.1'): 15.299999999999999,\n",
    " ('digit_scalar: 0.5', 'target_scalar: 0.01'): 15.0,\n",
    " ('digit_scalar: 0.5', 'target_scalar: 0.5'): 16.5,\n",
    " ('digit_scalar: 0.5', 'target_scalar: 1'): 14.099999999999998,\n",
    " ('digit_scalar: 0.5', 'target_scalar: 2'): 15.7,\n",
    " ('digit_scalar: 0.5', 'target_scalar: 3'): 17.0,\n",
    " ('digit_scalar: 1', 'target_scalar: 0.1'): 16.3,\n",
    " ('digit_scalar: 1', 'target_scalar: 0.01'): 15.4,\n",
    " ('digit_scalar: 1', 'target_scalar: 0.5'): 17.5,\n",
    " ('digit_scalar: 1', 'target_scalar: 1'): 15.8,\n",
    " ('digit_scalar: 1', 'target_scalar: 2'): 16.5,\n",
    " ('digit_scalar: 1', 'target_scalar: 3'): 13.5,\n",
    " ('digit_scalar: 2', 'target_scalar: 0.1'): 15.8,\n",
    " ('digit_scalar: 2', 'target_scalar: 0.01'): 14.299999999999999,\n",
    " ('digit_scalar: 2', 'target_scalar: 0.5'): 16.2,\n",
    " ('digit_scalar: 2', 'target_scalar: 1'): 14.299999999999999,\n",
    " ('digit_scalar: 2', 'target_scalar: 2'): 13.4,\n",
    " ('digit_scalar: 2', 'target_scalar: 3'): 17.7,\n",
    " ('digit_scalar: 3', 'target_scalar: 0.1'): 15.9,\n",
    " ('digit_scalar: 3', 'target_scalar: 0.01'): 15.8,\n",
    " ('digit_scalar: 3', 'target_scalar: 0.5'): 14.7,\n",
    " ('digit_scalar: 3', 'target_scalar: 1'): 15.2,\n",
    " ('digit_scalar: 3', 'target_scalar: 2'): 16.6,\n",
    " ('digit_scalar: 3', 'target_scalar: 3'): 15.5}"
   ]
  },
  {
   "cell_type": "code",
   "execution_count": null,
   "metadata": {},
   "outputs": [],
   "source": []
  }
 ],
 "metadata": {
  "kernelspec": {
   "display_name": "Python 3",
   "language": "python",
   "name": "python3"
  },
  "language_info": {
   "codemirror_mode": {
    "name": "ipython",
    "version": 3
   },
   "file_extension": ".py",
   "mimetype": "text/x-python",
   "name": "python",
   "nbconvert_exporter": "python",
   "pygments_lexer": "ipython3",
   "version": "3.6.8"
  }
 },
 "nbformat": 4,
 "nbformat_minor": 2
}
