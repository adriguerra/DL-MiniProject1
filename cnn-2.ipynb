{
 "cells": [
  {
   "cell_type": "code",
   "execution_count": 1,
   "metadata": {},
   "outputs": [],
   "source": [
    "from helper_functions import *\n",
    "from torch import nn\n",
    "from torch.autograd import Variable\n",
    "import torch.nn.functional as F"
   ]
  },
  {
   "cell_type": "code",
   "execution_count": 2,
   "metadata": {},
   "outputs": [],
   "source": [
    "N = 1000\n",
    "train_input, train_target, train_classes, test_input, test_target, test_classes = generate_pair_sets(N)"
   ]
  },
  {
   "cell_type": "markdown",
   "metadata": {},
   "source": [
    "#### Data preprocessing"
   ]
  },
  {
   "cell_type": "code",
   "execution_count": 3,
   "metadata": {},
   "outputs": [],
   "source": [
    "train_input = 0.9*train_input\n",
    "test_input = 0.9*test_input\n",
    "\n",
    "train_input, test_input = normalize(train_input, test_input)"
   ]
  },
  {
   "cell_type": "markdown",
   "metadata": {},
   "source": [
    "### Convolutional Neuronal Network"
   ]
  },
  {
   "cell_type": "markdown",
   "metadata": {},
   "source": [
    "#### Predict digit target ∈ {0,1}"
   ]
  },
  {
   "cell_type": "markdown",
   "metadata": {},
   "source": [
    "#### Define model"
   ]
  },
  {
   "cell_type": "code",
   "execution_count": 4,
   "metadata": {},
   "outputs": [],
   "source": [
    "class Net2(nn.Module):\n",
    "    def __init__(self):\n",
    "        super(Net2, self).__init__()\n",
    "        nb_hidden = 50\n",
    "        self.conv1 = nn.Conv2d(2, 32, kernel_size=3)\n",
    "        self.conv1_bn = nn.BatchNorm2d(32)\n",
    "        self.conv2 = nn.Conv2d(32, 32, kernel_size=2)\n",
    "        self.conv2_bn = nn.BatchNorm2d(32)\n",
    "        self.conv3 = nn.Conv2d(32, 64, kernel_size=2)\n",
    "        self.conv3_bn = nn.BatchNorm2d(64)\n",
    "        self.drop1 = nn.Dropout(p=0.5)\n",
    "        self.fc1 = nn.Linear(64, nb_hidden)\n",
    "        self.drop2 = nn.Dropout(p=0.5)\n",
    "        self.fc2 = nn.Linear(nb_hidden, 2)\n",
    "        self.fc3 = nn.Sigmoid()\n",
    "\n",
    "    def forward(self, x):\n",
    "        x = F.relu(F.max_pool2d(self.conv1_bn(self.conv1(x)),kernel_size=2))\n",
    "        x = F.relu(F.max_pool2d(self.conv2_bn(self.conv2(x)),kernel_size=2))\n",
    "        x = F.relu(self.conv3_bn(self.conv3(x)))\n",
    "        x = self.drop1(x)\n",
    "        x = F.relu(self.fc1(x.view(-1, 64)))\n",
    "        x = self.drop2(x)\n",
    "        x = self.fc2(x)\n",
    "        x = self.fc3(x)\n",
    "        return x\n",
    "    \n",
    "def train_model(model, train_input, train_target, mini_batch_size):\n",
    "    eta = 1e-1\n",
    "    criterion = nn.CrossEntropyLoss()\n",
    "    optimizer = torch.optim.SGD(model.parameters(), lr=eta)\n",
    "   \n",
    "    for e in range(25):\n",
    "        sum_loss = 0\n",
    "        for b in range(0, train_input.size(0), mini_batch_size):\n",
    "            output = model(train_input.narrow(0, b, mini_batch_size))\n",
    "            loss = criterion(output, train_target.narrow(0, b, mini_batch_size))\n",
    "            model.zero_grad()\n",
    "            loss.backward()\n",
    "            optimizer.step()\n",
    "            sum_loss = sum_loss + loss.item()\n",
    "\n",
    "def compute_nb_errors(model, input_, target, mini_batch_size):\n",
    "    nb_errors = 0\n",
    "    for b in range(0, input_.size(0), mini_batch_size):\n",
    "        _,output = model(input_.narrow(0, b, mini_batch_size)).max(1)\n",
    "        for k in range(mini_batch_size):\n",
    "            if target[b + k] != output[k].item():\n",
    "                nb_errors = nb_errors + 1\n",
    "    return nb_errors"
   ]
  },
  {
   "cell_type": "markdown",
   "metadata": {},
   "source": [
    "#### Train and test model"
   ]
  },
  {
   "cell_type": "code",
   "execution_count": 5,
   "metadata": {},
   "outputs": [
    {
     "name": "stdout",
     "output_type": "stream",
     "text": [
      "Final digit comparison error on test set: 23.30% 233/1000\n",
      "Final digit comparison error on test set: 20.40% 204/1000\n",
      "Final digit comparison error on test set: 19.70% 197/1000\n",
      "Final digit comparison error on test set: 21.20% 212/1000\n",
      "Final digit comparison error on test set: 20.20% 202/1000\n",
      "Final digit comparison error on test set: 20.40% 204/1000\n",
      "Final digit comparison error on test set: 19.60% 196/1000\n",
      "Final digit comparison error on test set: 20.50% 205/1000\n",
      "Final digit comparison error on test set: 19.50% 195/1000\n",
      "Final digit comparison error on test set: 20.00% 200/1000\n",
      "Final digit comparison error on test set: 20.00% 200/1000\n",
      "Final digit comparison error on test set: 19.40% 194/1000\n",
      "Final digit comparison error on test set: 20.40% 204/1000\n",
      "Final digit comparison error on test set: 18.90% 189/1000\n",
      "Final digit comparison error on test set: 20.80% 208/1000\n"
     ]
    }
   ],
   "source": [
    "mini_batch_size = 100\n",
    "model = Net2()\n",
    "\n",
    "for k in range(15):\n",
    "    train_model(model, train_input, train_target, mini_batch_size)\n",
    "    nb_test_errors = compute_nb_errors(model, test_input, test_target, mini_batch_size)\n",
    "    print('Final digit comparison error on test set: {:0.2f}% {:d}/{:d}'.format((100 * nb_test_errors) / test_input.size(0),\n",
    "                                                  nb_test_errors, test_input.size(0)))"
   ]
  }
 ],
 "metadata": {
  "kernelspec": {
   "display_name": "Python 3",
   "language": "python",
   "name": "python3"
  },
  "language_info": {
   "codemirror_mode": {
    "name": "ipython",
    "version": 3
   },
   "file_extension": ".py",
   "mimetype": "text/x-python",
   "name": "python",
   "nbconvert_exporter": "python",
   "pygments_lexer": "ipython3",
   "version": "3.6.5"
  }
 },
 "nbformat": 4,
 "nbformat_minor": 2
}
